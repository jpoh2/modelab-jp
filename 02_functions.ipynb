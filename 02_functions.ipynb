{
 "cells": [
  {
   "cell_type": "markdown",
   "id": "02cc5baf",
   "metadata": {},
   "source": [
    "##Saludation"
   ]
  },
  {
   "cell_type": "code",
   "execution_count": 28,
   "id": "c3cb75e2",
   "metadata": {},
   "outputs": [],
   "source": [
    "def say_hello():\n",
    "    print(\"Hello world!\")"
   ]
  },
  {
   "cell_type": "code",
   "execution_count": 29,
   "id": "bc103f31",
   "metadata": {},
   "outputs": [
    {
     "name": "stdout",
     "output_type": "stream",
     "text": [
      "Hello world!\n"
     ]
    }
   ],
   "source": [
    "say_hello()"
   ]
  },
  {
   "cell_type": "markdown",
   "id": "c1cf0499",
   "metadata": {},
   "source": [
    "##Simple functions"
   ]
  },
  {
   "cell_type": "code",
   "execution_count": 30,
   "id": "1122c229",
   "metadata": {},
   "outputs": [],
   "source": [
    "# This function add two to a number\n",
    "def add_two(num1):\n",
    "    result = num1 + 2\n",
    "    return result"
   ]
  },
  {
   "cell_type": "code",
   "execution_count": 31,
   "id": "8545d981",
   "metadata": {},
   "outputs": [
    {
     "name": "stdout",
     "output_type": "stream",
     "text": [
      "5\n"
     ]
    }
   ],
   "source": [
    "\n",
    "print(add_two(3))"
   ]
  },
  {
   "cell_type": "code",
   "execution_count": 32,
   "id": "580ec69b",
   "metadata": {},
   "outputs": [],
   "source": [
    "\n",
    "# This function square a number\n",
    "def square_number(num):\n",
    "    return num * num  "
   ]
  },
  {
   "cell_type": "code",
   "execution_count": 33,
   "id": "4de57f2a",
   "metadata": {},
   "outputs": [
    {
     "name": "stdout",
     "output_type": "stream",
     "text": [
      "16\n"
     ]
    }
   ],
   "source": [
    "print(square_number(4))"
   ]
  },
  {
   "cell_type": "code",
   "execution_count": 34,
   "id": "59cded82",
   "metadata": {},
   "outputs": [],
   "source": [
    "# Multiple two numbers\n",
    "def multiple_two_numbers(num1, num2):\n",
    "    return num1 * num2"
   ]
  },
  {
   "cell_type": "code",
   "execution_count": 35,
   "id": "0d66856b",
   "metadata": {},
   "outputs": [
    {
     "name": "stdout",
     "output_type": "stream",
     "text": [
      "6\n"
     ]
    }
   ],
   "source": [
    "print(multiple_two_numbers(2, 3))"
   ]
  },
  {
   "cell_type": "markdown",
   "id": "36c795ac",
   "metadata": {},
   "source": [
    "##Composite Functions"
   ]
  },
  {
   "cell_type": "code",
   "execution_count": 36,
   "id": "bca815df",
   "metadata": {},
   "outputs": [],
   "source": [
    "def transform(x):\n",
    "    return x * 9 / 3 - 7\n",
    "\n",
    "def evaluate_abs(x):\n",
    "    return abs(transform(x))"
   ]
  },
  {
   "cell_type": "code",
   "execution_count": 37,
   "id": "1f844366",
   "metadata": {},
   "outputs": [
    {
     "name": "stdout",
     "output_type": "stream",
     "text": [
      "29.0\n"
     ]
    }
   ],
   "source": [
    "print(evaluate_abs(12)) \n"
   ]
  },
  {
   "cell_type": "code",
   "execution_count": 38,
   "id": "128c51ab",
   "metadata": {},
   "outputs": [
    {
     "name": "stdout",
     "output_type": "stream",
     "text": [
      "43.0\n"
     ]
    }
   ],
   "source": [
    "print(evaluate_abs(-12)) "
   ]
  },
  {
   "cell_type": "code",
   "execution_count": 39,
   "id": "7c201e18",
   "metadata": {},
   "outputs": [
    {
     "name": "stdout",
     "output_type": "stream",
     "text": [
      "11.0\n"
     ]
    }
   ],
   "source": [
    "print(evaluate_abs(6))"
   ]
  },
  {
   "cell_type": "code",
   "execution_count": 40,
   "id": "549723e2",
   "metadata": {},
   "outputs": [
    {
     "name": "stdout",
     "output_type": "stream",
     "text": [
      "16.0\n"
     ]
    }
   ],
   "source": [
    "print(evaluate_abs(-3)) "
   ]
  },
  {
   "cell_type": "markdown",
   "id": "ccd9060d",
   "metadata": {},
   "source": []
  }
 ],
 "metadata": {
  "kernelspec": {
   "display_name": "base",
   "language": "python",
   "name": "python3"
  },
  "language_info": {
   "codemirror_mode": {
    "name": "ipython",
    "version": 3
   },
   "file_extension": ".py",
   "mimetype": "text/x-python",
   "name": "python",
   "nbconvert_exporter": "python",
   "pygments_lexer": "ipython3",
   "version": "3.13.5"
  }
 },
 "nbformat": 4,
 "nbformat_minor": 5
}
