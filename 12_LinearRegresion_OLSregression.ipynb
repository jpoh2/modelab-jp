{
 "cells": [
  {
   "cell_type": "code",
   "execution_count": null,
   "id": "77b70f22",
   "metadata": {},
   "outputs": [],
   "source": [
    "#Definir FUNCIÓN que me permitirá importar un archivo CSV y cargarlo en un DataFrame de pandas\n",
    "def import_csv(file):\n",
    "    # Read the csv file into a DataFrame: df con el paquete pandas\n",
    "    import pandas as pd  #Python llama a paquetería pandas \n",
    "    return pd.read_csv(file)"
   ]
  },
  {
   "cell_type": "code",
   "execution_count": null,
   "id": "cdaafefa",
   "metadata": {},
   "outputs": [],
   "source": [
    "#Utilizar el nombre de la FUNCIÓN PREdefinida y la ruta de acceso (path) al archivo .csv de interés\n",
    "import_csv(\"C:/Projects/modelab_jp/data/Terminos_lagoon_TA_DIC_2023_RawData.csv\")\n",
    "terminos_df = import_csv(\"C:/Projects/modelab_jp/data/Terminos_lagoon_TA_DIC_2023_RawData.csv\")"
   ]
  },
  {
   "cell_type": "markdown",
   "id": "0d4d5f71",
   "metadata": {},
   "source": [
    "# Scatter plot with linear regretion = scipy.stats.linregress"
   ]
  },
  {
   "cell_type": "markdown",
   "id": "6ec95ddf",
   "metadata": {},
   "source": [
    "###### A simple and quick function for performing linear regression on two variables. It calculates the slope, intercept, R-squared, p-value, and standard error. Best for basic, exploratory analysis with one independent variable"
   ]
  },
  {
   "cell_type": "code",
   "execution_count": null,
   "id": "f8859e7e",
   "metadata": {},
   "outputs": [],
   "source": [
    "import matplotlib.pyplot as plt\n",
    "from scipy import stats\n",
    "\n",
    "x = terminos_df['ta_micromol_kg']\n",
    "y = terminos_df['dic_micromol_kg']\n",
    "\n",
    "plt.scatter(x, y, label='original data')\n",
    "\n",
    "# Add labels and title\n",
    "plt.xlabel('TA ($\\mu mol  \\; kg^{-1}$)', fontsize = 12, )\n",
    "plt.ylabel('DIC ($\\mu mol  \\; kg^{-1}$)', fontsize = 12)\n",
    "\n",
    "# Calculate the linear regression line\n",
    "slope, intercept, r_value, p_value, std_err = stats.linregress(x, y)\n",
    "\n",
    "# Plot linear regression \n",
    "\n",
    "plt.plot(x, intercept + slope*x, 'r', label='fitted line')\n",
    "\n",
    "# set the figure size\n",
    "plt.gcf().set_size_inches(6, 4)\n",
    "\n",
    "# save the plot as a PDF file paper format \n",
    "import os\n",
    "output_dir = '../output_files'\n",
    "os.makedirs(output_dir, exist_ok=True)\n",
    "plt.savefig(os.path.join(output_dir, 'DIC_TA_pH.pdf'), dpi=300, bbox_inches='tight')\n",
    "\n",
    "\n",
    "plt.show()\n",
    "\n",
    "print('Slope:', slope)"
   ]
  },
  {
   "cell_type": "code",
   "execution_count": null,
   "id": "c9ea832f",
   "metadata": {},
   "outputs": [],
   "source": [
    "print(\"r-squared:\", r_value**2)\n",
    "print(\"p_value:\", p_value)\n",
    "print(\"slope:\", slope)\n",
    "print(\"intercept:\", intercept)"
   ]
  },
  {
   "cell_type": "markdown",
   "id": "9e4c2e86",
   "metadata": {},
   "source": [
    "# Perform least squares (OLS) regression: scipy.stats.linregress"
   ]
  },
  {
   "cell_type": "markdown",
   "id": "9b5f84d9",
   "metadata": {},
   "source": [
    "###### A powerful and detailed linear regression tool that supports both simple and multiple linear regression. It provides a full statistical report, including p-values, confidence intervals, and diagnostic tests. Ideal for professional data analysis and scientific reporting."
   ]
  },
  {
   "cell_type": "code",
   "execution_count": null,
   "id": "0714fd55",
   "metadata": {},
   "outputs": [],
   "source": [
    "import statsmodels.api as sm\n",
    "import numpy as np\n",
    "\n",
    "# Define the independent and dependent variables\n",
    "x = terminos_df['ta_micromol_kg']\n",
    "y = terminos_df['dic_micromol_kg']\n",
    "\n",
    "# Add a constant to include the intercept in the model\n",
    "# This step is necessary; otherwise, the regression will be forced through the origin (intercept = 0)\n",
    "x = sm.add_constant(x)\n",
    "\n",
    "# Fit the Ordinary Least Squares (OLS) linear regression model\n",
    "model = sm.OLS(y, x).fit()\n",
    "\n",
    "# Display the model summary\n",
    "print(model.summary())"
   ]
  },
  {
   "cell_type": "code",
   "execution_count": null,
   "id": "85c0007e",
   "metadata": {},
   "outputs": [],
   "source": [
    "print(\"\\n=== MODEL INTERPRETATION ===\\n\")\n",
    "\n",
    "# R-squared and fit quality\n",
    "r2 = model.rsquared\n",
    "fit_quality = (\n",
    "    \"✔️ Good model fit: Explains most of the variance.\" if r2 >= 0.7 else\n",
    "    \"⚠️ Moderate model fit: Explains part of the variance.\" if r2 >= 0.4 else\n",
    "    \"❌ Weak model fit: Explains little variance. Review your model.\"\n",
    ")\n",
    "print(f\"R² = {r2:.3f}\\n{fit_quality}\")\n",
    "\n",
    "# Coefficients and p-values\n",
    "results = model.summary2().tables[1]\n",
    "slope_var = results.index.drop('const')[0]  # Assuming one predictor\n",
    "\n",
    "print(\"\\nCoefficients:\")\n",
    "for var, row in results.iterrows():\n",
    "    coef, pval = row['Coef.'], row['P>|t|']\n",
    "    significance = \"✔️ Significant (p < 0.05)\" if pval < 0.05 else \"⚠️ Not significant (p ≥ 0.05)\"\n",
    "    print(f\"- {var}: Coef = {coef:.4f}, p = {pval:.4f} → {significance}\")\n",
    "\n",
    "# Slope interpretation\n",
    "slope_coef, slope_pval = results.loc[slope_var, ['Coef.', 'P>|t|']]\n",
    "print(f\"\\nSlope ({slope_var}): {slope_coef:.4f}, p = {slope_pval:.4f} → \"\n",
    "      f\"{'✔️ Significant' if slope_pval < 0.05 else '⚠️ Not significant'}\")\n",
    "\n",
    "# Standard Error\n",
    "print(f\"\\nStandard Error of the model: {np.sqrt(model.scale):.4f}\")"
   ]
  },
  {
   "cell_type": "markdown",
   "id": "3c49e448",
   "metadata": {},
   "source": [
    "# 12. Exercise: perform linear regressions of salinity vs temperature and dec vs salinity."
   ]
  },
  {
   "cell_type": "markdown",
   "id": "1b669c3e",
   "metadata": {},
   "source": [
    "##### 12.1 Perform linear regressions of salinity vs temperature"
   ]
  },
  {
   "cell_type": "code",
   "execution_count": 14,
   "id": "53a6efa5",
   "metadata": {},
   "outputs": [
    {
     "data": {
      "text/plain": [
       "Index(['sample', 'date', 'estuary', 'area', 'station', 'layer_depth', 'season',\n",
       "       'chlorophy_microg_l', 'cond_microsiemens_cm', 'depth_m',\n",
       "       'do_percent_sat', 'do_mg_l', 'sal_psu', 'sp_cond_microsiemens_cm',\n",
       "       'turbidity_fnu', 'temp_c', 'latitude', 'longitude', 'dic_micromol_kg',\n",
       "       'ta_micromol_kg', 'dummy_data'],\n",
       "      dtype='object')"
      ]
     },
     "execution_count": 14,
     "metadata": {},
     "output_type": "execute_result"
    }
   ],
   "source": [
    "terminos_df.columns  #Visualizar los nombres de las columnas del DataFrame"
   ]
  },
  {
   "cell_type": "code",
   "execution_count": 23,
   "id": "978ef8b5",
   "metadata": {},
   "outputs": [
    {
     "data": {
      "image/png": "[encoded data removed]",
      "text/plain": [
       "<Figure size 600x400 with 1 Axes>"
      ]
     },
     "metadata": {},
     "output_type": "display_data"
    },
    {
     "name": "stdout",
     "output_type": "stream",
     "text": [
      "Slope: -0.028458717486946172\n"
     ]
    }
   ],
   "source": [
    "import matplotlib.pyplot as plt\n",
    "from scipy import stats\n",
    "\n",
    "x = terminos_df['sal_psu']\n",
    "y = terminos_df['temp_c']\n",
    "\n",
    "plt.scatter(x, y, label='original data')\n",
    "\n",
    "# Add labels and title\n",
    "plt.xlabel('Salinity (PSU)', fontsize=12)\n",
    "plt.ylabel('Temperature ($^\\\\circ\\\\mathrm{C} \\\\; \\\\mathrm{kg}^{-1}$)', fontsize=12)\n",
    "\n",
    "\n",
    "# Calculate the linear regression line\n",
    "slope, intercept, r_value, p_value, std_err = stats.linregress(x, y)\n",
    "\n",
    "# Plot linear regression \n",
    "\n",
    "plt.plot(x, intercept + slope*x, 'r', label='fitted line')\n",
    "\n",
    "# set the figure size\n",
    "plt.gcf().set_size_inches(6, 4)\n",
    "\n",
    "# save the plot as a PDF file paper format \n",
    "import os\n",
    "output_dir = '../output_files'\n",
    "os.makedirs(output_dir, exist_ok=True)\n",
    "plt.savefig(os.path.join(output_dir, 'DIC_TA_pH.pdf'), dpi=300, bbox_inches='tight')\n",
    "\n",
    "\n",
    "plt.show()\n",
    "\n",
    "print('Slope:', slope)"
   ]
  },
  {
   "cell_type": "code",
   "execution_count": 16,
   "id": "ed46c189",
   "metadata": {},
   "outputs": [
    {
     "name": "stdout",
     "output_type": "stream",
     "text": [
      "r-squared: 0.17749929096684758\n",
      "p_value: 6.879907520531129e-06\n",
      "slope: -0.028458717486946172\n",
      "intercept: 27.25200067150795\n"
     ]
    }
   ],
   "source": [
    "print(\"r-squared:\", r_value**2)\n",
    "print(\"p_value:\", p_value)\n",
    "print(\"slope:\", slope)\n",
    "print(\"intercept:\", intercept)"
   ]
  },
  {
   "cell_type": "markdown",
   "id": "315dd221",
   "metadata": {},
   "source": [
    "##### 12.2 Perform linear regressions of DIC vs salinity "
   ]
  },
  {
   "cell_type": "code",
   "execution_count": 22,
   "id": "04596603",
   "metadata": {},
   "outputs": [
    {
     "data": {
      "image/png": "[encoded data removed]",
      "text/plain": [
       "<Figure size 600x400 with 1 Axes>"
      ]
     },
     "metadata": {},
     "output_type": "display_data"
    },
    {
     "name": "stdout",
     "output_type": "stream",
     "text": [
      "Slope: -21.053197646779648\n"
     ]
    }
   ],
   "source": [
    "import matplotlib.pyplot as plt\n",
    "from scipy import stats\n",
    "\n",
    "x = terminos_df['sal_psu']\n",
    "y = terminos_df['dic_micromol_kg']\n",
    "\n",
    "plt.scatter(x, y, label='original data')\n",
    "\n",
    "# Add labels and title\n",
    "plt.xlabel('Salinity (PSU)', fontsize=12)\n",
    "plt.ylabel('DIC ($\\mu mol  \\; kg^{-1}$)', fontsize = 12)\n",
    "\n",
    "\n",
    "# Calculate the linear regression line\n",
    "slope, intercept, r_value, p_value, std_err = stats.linregress(x, y)\n",
    "\n",
    "# Plot linear regression \n",
    "\n",
    "plt.plot(x, intercept + slope*x, 'r', label='fitted line')\n",
    "\n",
    "# set the figure size\n",
    "plt.gcf().set_size_inches(6, 4)\n",
    "\n",
    "# save the plot as a PDF file paper format \n",
    "import os\n",
    "output_dir = '../output_files'\n",
    "os.makedirs(output_dir, exist_ok=True)\n",
    "plt.savefig(os.path.join(output_dir, 'DIC_TA_pH.pdf'), dpi=300, bbox_inches='tight')\n",
    "\n",
    "\n",
    "plt.show()\n",
    "\n",
    "print('Slope:', slope)"
   ]
  },
  {
   "cell_type": "code",
   "execution_count": 18,
   "id": "6ab3af94",
   "metadata": {},
   "outputs": [
    {
     "name": "stdout",
     "output_type": "stream",
     "text": [
      "r-squared: 0.3271047331022779\n",
      "p_value: 1.5144104023764912e-10\n",
      "slope: -21.053197646779648\n",
      "intercept: 3162.8747564593123\n"
     ]
    }
   ],
   "source": [
    "print(\"r-squared:\", r_value**2)\n",
    "print(\"p_value:\", p_value)\n",
    "print(\"slope:\", slope)\n",
    "print(\"intercept:\", intercept)"
   ]
  },
  {
   "cell_type": "code",
   "execution_count": null,
   "id": "d596fcdc",
   "metadata": {},
   "outputs": [],
   "source": []
  }
 ],
 "metadata": {
  "kernelspec": {
   "display_name": "base",
   "language": "python",
   "name": "python3"
  },
  "language_info": {
   "codemirror_mode": {
    "name": "ipython",
    "version": 3
   },
   "file_extension": ".py",
   "mimetype": "text/x-python",
   "name": "python",
   "nbconvert_exporter": "python",
   "pygments_lexer": "ipython3",
   "version": "3.13.5"
  }
 },
 "nbformat": 4,
 "nbformat_minor": 5
}
