{
 "cells": [
  {
   "cell_type": "markdown",
   "id": "55d9ac9a",
   "metadata": {},
   "source": [
    "## Loading a CSV File with pandas in VSCode\n"
   ]
  },
  {
   "cell_type": "code",
   "execution_count": null,
   "id": "8c372174",
   "metadata": {},
   "outputs": [],
   "source": [
    "#Definir FUNCIÓN que me permitirá importar un archivo CSV y cargarlo en un DataFrame de pandas\n",
    "def import_csv(file):\n",
    "    # Read the csv file into a DataFrame: df con el paquete pandas\n",
    "    import pandas as pd  #Python llama a paquetería pandas \n",
    "    return pd.read_csv(file)"
   ]
  },
  {
   "cell_type": "code",
   "execution_count": null,
   "id": "6ad14918",
   "metadata": {},
   "outputs": [],
   "source": [
    "#Utilizar el nombre de la FUNCIÓN PREdefinida y el nombre del archivo .csv\n",
    "import_csv(\"C:/Projects/modelab_jp/data/Terminos_lagoon_TA_DIC_2023_RawData.csv\")"
   ]
  },
  {
   "cell_type": "code",
   "execution_count": null,
   "id": "2b01e49b",
   "metadata": {},
   "outputs": [],
   "source": [
    "#Definir una VARIABLE para poder manipular el DataFrame (no solo visualizarlo)\n",
    "terminos_df = import_csv(\"C:/Projects/modelab_jp/data/Terminos_lagoon_TA_DIC_2023_RawData.csv\")"
   ]
  },
  {
   "cell_type": "markdown",
   "id": "29913020",
   "metadata": {},
   "source": [
    "#### Exploring DataFrame (antes csv) with pandas"
   ]
  },
  {
   "cell_type": "code",
   "execution_count": null,
   "id": "8291df87",
   "metadata": {},
   "outputs": [],
   "source": [
    "#Explorar el DataFrame\n",
    "#Print variable names\n",
    "print(terminos_df.columns)"
   ]
  },
  {
   "cell_type": "code",
   "execution_count": null,
   "id": "4a76c322",
   "metadata": {},
   "outputs": [],
   "source": [
    "print(terminos_df.shape) #Muestra el número de filas y columnas"
   ]
  },
  {
   "cell_type": "code",
   "execution_count": null,
   "id": "87d793e1",
   "metadata": {},
   "outputs": [],
   "source": [
    "print(terminos_df.head())  #Muestra las primeras 5 filas del DataFrame por default. Puedes especificar otro número como parámatro/argumento"
   ]
  },
  {
   "cell_type": "code",
   "execution_count": null,
   "id": "f1633b07",
   "metadata": {},
   "outputs": [],
   "source": [
    "print(terminos_df.tail(3))  #Muestra las últimas 5 filas"
   ]
  },
  {
   "cell_type": "code",
   "execution_count": null,
   "id": "de36002f",
   "metadata": {},
   "outputs": [],
   "source": [
    "print(terminos_df.info())  #Muestra información general"
   ]
  },
  {
   "cell_type": "code",
   "execution_count": null,
   "id": "daac1956",
   "metadata": {},
   "outputs": [],
   "source": [
    "print(terminos_df.describe())  #Muestra estadísticas descriptivas básicas"
   ]
  },
  {
   "cell_type": "markdown",
   "id": "cea24554",
   "metadata": {},
   "source": [
    "\n",
    "\n",
    "*Si estás trabajando en un archivo .ipynb (Jupyter Notebook), no necesitas usar print(), basta con poner el comando en una celda. Obtienes una mejor interfaz en la representación de la tabla.*"
   ]
  },
  {
   "cell_type": "code",
   "execution_count": null,
   "id": "0fba9206",
   "metadata": {},
   "outputs": [],
   "source": [
    "terminos_df.describe()"
   ]
  },
  {
   "cell_type": "markdown",
   "id": "f325b920",
   "metadata": {},
   "source": [
    " # 04 Estadística descriptiva de una DataFrame"
   ]
  },
  {
   "cell_type": "markdown",
   "id": "333cbe0f",
   "metadata": {},
   "source": [
    "## Exploring DataFrame"
   ]
  },
  {
   "cell_type": "code",
   "execution_count": null,
   "id": "59e5a946",
   "metadata": {},
   "outputs": [],
   "source": [
    "# Print the number of rows and columns in the DataFrame\n",
    "terminos_df.shape"
   ]
  },
  {
   "cell_type": "code",
   "execution_count": null,
   "id": "db0049ce",
   "metadata": {},
   "outputs": [],
   "source": [
    "# Print the head of the DataFrame\n",
    "terminos_df.head()"
   ]
  },
  {
   "cell_type": "markdown",
   "id": "46d085c8",
   "metadata": {},
   "source": [
    "#### Print information about a DataFrame including the index dtype and columns, non-null values and memory usage"
   ]
  },
  {
   "cell_type": "code",
   "execution_count": null,
   "id": "a6da912e",
   "metadata": {},
   "outputs": [],
   "source": [
    "# Print information about the DataFrame\n",
    "terminos_df.info()"
   ]
  },
  {
   "cell_type": "code",
   "execution_count": null,
   "id": "b22f0981",
   "metadata": {},
   "outputs": [],
   "source": [
    "# Print descriptive statistics\n",
    "terminos_df.describe()"
   ]
  },
  {
   "cell_type": "markdown",
   "id": "f0920e7a",
   "metadata": {},
   "source": [
    "#### Group the data by a categorical column, and calculate the mean and standard deviation of a numerical column"
   ]
  },
  {
   "cell_type": "markdown",
   "id": "64a2da40",
   "metadata": {},
   "source": [
    "## Missing values in each column"
   ]
  },
  {
   "cell_type": "code",
   "execution_count": null,
   "id": "0e5f255f",
   "metadata": {},
   "outputs": [],
   "source": [
    "# Use the Pandas isnull() function to identify the number of missing values in each column.\n",
    "terminos_df.isnull().sum()"
   ]
  },
  {
   "cell_type": "markdown",
   "id": "41dbf612",
   "metadata": {},
   "source": [
    "#### Method to use for filling holes in reindexed Series\n"
   ]
  },
  {
   "cell_type": "markdown",
   "id": "241640e3",
   "metadata": {},
   "source": [
    "#**ffill**: propagate last valid observation forward to next valid.\n",
    "\n",
    "#**bfill**: use next valid observation to fill gap."
   ]
  },
  {
   "cell_type": "code",
   "execution_count": null,
   "id": "f00275a2",
   "metadata": {},
   "outputs": [],
   "source": [
    "# Create new data frame (with missing values filled)\n",
    "terminos_df_fill = terminos_df.copy()"
   ]
  },
  {
   "cell_type": "code",
   "execution_count": null,
   "id": "9207075d",
   "metadata": {},
   "outputs": [],
   "source": [
    "# Use fill method \n",
    "terminos_df_fill = terminos_df_fill.ffill()  #Pronto estará en desuso: terminos_df_fill.fillna(method=\"ffill\")"
   ]
  },
  {
   "cell_type": "code",
   "execution_count": null,
   "id": "77f4e880",
   "metadata": {},
   "outputs": [],
   "source": [
    "terminos_df_fill.isnull().sum()"
   ]
  },
  {
   "cell_type": "markdown",
   "id": "acc06f64",
   "metadata": {},
   "source": [
    "#### Interpolation for filling missing values"
   ]
  },
  {
   "cell_type": "code",
   "execution_count": null,
   "id": "5d7ec8d1",
   "metadata": {},
   "outputs": [],
   "source": [
    "terminos_df_fill_linear = terminos_df.copy()\n",
    "terminos_df_fill_linear = terminos_df_fill_linear.interpolate(method='linear')\n",
    "print(terminos_df_fill_linear.isnull().sum())"
   ]
  },
  {
   "cell_type": "markdown",
   "id": "c60c64e4",
   "metadata": {},
   "source": [
    "# Exercises"
   ]
  },
  {
   "cell_type": "markdown",
   "id": "fa06df73",
   "metadata": {},
   "source": [
    "#### Opción 1: Group the data by a categorical column, and calculate the mean and standard deviation of a numerical column"
   ]
  },
  {
   "cell_type": "markdown",
   "id": "74148c29",
   "metadata": {},
   "source": [
    "1. Create a new column called \"TA_DIC_ratio\" that is the ratio of TA to DIC (TA/DIC)"
   ]
  },
  {
   "cell_type": "code",
   "execution_count": null,
   "id": "3ff175e5",
   "metadata": {},
   "outputs": [],
   "source": [
    "terminos_df[\"TA_DIC_ratio\"] = terminos_df[\"ta_micromol_kg\"] / terminos_df[\"dic_micromol_kg\"]\n",
    "\n"
   ]
  },
  {
   "cell_type": "code",
   "execution_count": null,
   "id": "776870c0",
   "metadata": {},
   "outputs": [],
   "source": [
    "terminos_df[\"TA_DIC_ratio\"].plot() #Hacer un gráfico de la nueva columna para visualizar la razón TA/DIC rápidamente"
   ]
  },
  {
   "cell_type": "code",
   "execution_count": null,
   "id": "ec316fdc",
   "metadata": {},
   "outputs": [],
   "source": [
    "terminos_df[\"TA_DIC_ratio\"].isnull().sum()  #Verificar si hay valores nulos (que puedan sesgar los resultados e interpretación) en la nueva columna\n"
   ]
  },
  {
   "cell_type": "code",
   "execution_count": null,
   "id": "86655898",
   "metadata": {},
   "outputs": [],
   "source": [
    "import matplotlib.pyplot as plt\n",
    "\n",
    "#Boxplot para ver rango y valores atípicos: Observación rápida de la variabilidad y posibles valores extremos\n",
    "plt.boxplot(terminos_df[\"TA_DIC_ratio\"].dropna())\n",
    "plt.ylabel(\"TA/DIC ratio\")\n",
    "plt.title(\"Boxplot del radio TA/DIC\")\n",
    "plt.show()\n"
   ]
  },
  {
   "cell_type": "code",
   "execution_count": null,
   "id": "a5033020",
   "metadata": {},
   "outputs": [],
   "source": [
    "#Histograma para ver la distribución de datos\n",
    "import matplotlib.pyplot as plt\n",
    "\n",
    "plt.hist(terminos_df[\"TA_DIC_ratio\"].dropna(), bins=30, edgecolor=\"black\")\n",
    "plt.xlabel(\"TA/DIC ratio\")\n",
    "plt.ylabel(\"Frecuencia\")\n",
    "plt.title(\"Distribución del radio TA/DIC\")\n",
    "plt.show()\n"
   ]
  },
  {
   "cell_type": "markdown",
   "id": "f38dedd2",
   "metadata": {},
   "source": [
    "2. Calculate the mean and standard deviation of the \"TA_DIC_ratio\" for each season"
   ]
  },
  {
   "cell_type": "code",
   "execution_count": null,
   "id": "87e613a4",
   "metadata": {},
   "outputs": [],
   "source": [
    "TA_DIC_ratio = terminos_df[\"TA_DIC_ratio\"] #Definir una variable con la nueva columna para facilitar el análisis estadístico"
   ]
  },
  {
   "cell_type": "code",
   "execution_count": null,
   "id": "76c698ad",
   "metadata": {},
   "outputs": [],
   "source": [
    "#Filtrar datos de estación Dry\n",
    "terminos_df_dry = terminos_df[terminos_df[\"season\"] == \"Dry\"]\n",
    "media_dry = terminos_df_dry[\"TA_DIC_ratio\"].mean()\n",
    "std_dry = terminos_df_dry[\"TA_DIC_ratio\"].std()"
   ]
  },
  {
   "cell_type": "code",
   "execution_count": null,
   "id": "5d3f6b3a",
   "metadata": {},
   "outputs": [],
   "source": [
    "terminos_df_dry"
   ]
  },
  {
   "cell_type": "code",
   "execution_count": null,
   "id": "0efba38c",
   "metadata": {},
   "outputs": [],
   "source": [
    "media_dry"
   ]
  },
  {
   "cell_type": "code",
   "execution_count": null,
   "id": "9a869fcb",
   "metadata": {},
   "outputs": [],
   "source": [
    "std_dry"
   ]
  },
  {
   "cell_type": "code",
   "execution_count": null,
   "id": "43cfb4a7",
   "metadata": {},
   "outputs": [],
   "source": [
    "#Filtrar datos de estación Rainy\n",
    "terminos_df_rainy = terminos_df[terminos_df[\"season\"] == \"Rainy\"]\n",
    "media_rainy = terminos_df_rainy[\"TA_DIC_ratio\"].mean()\n",
    "std_rainy = terminos_df_rainy[\"TA_DIC_ratio\"].std()"
   ]
  },
  {
   "cell_type": "code",
   "execution_count": null,
   "id": "9633381f",
   "metadata": {},
   "outputs": [],
   "source": [
    "terminos_df_rainy"
   ]
  },
  {
   "cell_type": "code",
   "execution_count": null,
   "id": "ba19b753",
   "metadata": {},
   "outputs": [],
   "source": [
    "media_rainy"
   ]
  },
  {
   "cell_type": "code",
   "execution_count": null,
   "id": "6f6b24d8",
   "metadata": {},
   "outputs": [],
   "source": [
    "std_rainy"
   ]
  },
  {
   "cell_type": "markdown",
   "id": "23dc43cb",
   "metadata": {},
   "source": [
    "3. Calculate the mean and standard deviation of the \"TA_DIC_ratio\" for each season and area\n"
   ]
  },
  {
   "cell_type": "code",
   "execution_count": null,
   "id": "f595ae91",
   "metadata": {},
   "outputs": [],
   "source": [
    "#Filtrar datos por estación Dry y por area\n",
    "terminos_df_dry_area = terminos_df[\n",
    "\t(terminos_df[\"season\"] == \"Dry\") &\n",
    "\t(terminos_df[\"area\"].isin([\"Coast\", \"River\", \"Plume\"]))\n",
    "]"
   ]
  },
  {
   "cell_type": "code",
   "execution_count": null,
   "id": "d5c30b20",
   "metadata": {},
   "outputs": [],
   "source": [
    "media_dry_area = terminos_df_dry_area[\"TA_DIC_ratio\"].mean()\n",
    "media_dry_area"
   ]
  },
  {
   "cell_type": "code",
   "execution_count": null,
   "id": "b13dffdb",
   "metadata": {},
   "outputs": [],
   "source": [
    "std_dry_area = terminos_df_dry_area[\"TA_DIC_ratio\"].std()\n",
    "std_dry_area"
   ]
  },
  {
   "cell_type": "code",
   "execution_count": null,
   "id": "722137fa",
   "metadata": {},
   "outputs": [],
   "source": [
    "#Filtrar datos por estación Rainy y por area\n",
    "terminos_df_rainy_area = terminos_df[\n",
    "\t(terminos_df[\"season\"] == \"Rainy\") &\n",
    "\t(terminos_df[\"area\"].isin([\"Coast\", \"River\", \"Plume\"]))\n",
    "]"
   ]
  },
  {
   "cell_type": "code",
   "execution_count": null,
   "id": "05fb27b4",
   "metadata": {},
   "outputs": [],
   "source": [
    "media_rainy_area = terminos_df_rainy_area[\"TA_DIC_ratio\"].mean()\n",
    "media_rainy_area"
   ]
  },
  {
   "cell_type": "code",
   "execution_count": null,
   "id": "f4de5157",
   "metadata": {},
   "outputs": [],
   "source": [
    "std_rainy_area = terminos_df_rainy_area[\"TA_DIC_ratio\"].std()\n",
    "std_rainy_area"
   ]
  },
  {
   "cell_type": "markdown",
   "id": "20e0cdbb",
   "metadata": {},
   "source": [
    "4. Save the results to an Excel file called \"TA_DIC_Season_Areas.xlsx\""
   ]
  },
  {
   "cell_type": "code",
   "execution_count": null,
   "id": "425f5587",
   "metadata": {},
   "outputs": [],
   "source": [
    "import pandas as pd\n",
    "\n",
    "with pd.ExcelWriter(\"C:\\Projects\\modelab_jp\\TA_DIC_Season_Areas.xlsx\") as writer:\n",
    "    terminos_df_dry_area.to_excel(writer, sheet_name=\"Dry Season\")\n",
    "    terminos_df_rainy_area.to_excel(writer, sheet_name=\"Rainy Season\")"
   ]
  },
  {
   "cell_type": "markdown",
   "id": "fbc7ed61",
   "metadata": {},
   "source": [
    "# 05 Group by a categorical column, and calculate the mean and standard deviation of a numerical column"
   ]
  },
  {
   "cell_type": "markdown",
   "id": "2894b951",
   "metadata": {},
   "source": [
    "#### Opción 2: Group the data by a categorical column, and calculate the mean and standard deviation of a numerical column"
   ]
  },
  {
   "cell_type": "code",
   "execution_count": null,
   "metadata": {},
   "outputs": [],
   "source": []
  },
  {
   "cell_type": "code",
   "execution_count": null,
   "id": "f77163bf",
   "metadata": {},
   "outputs": [],
   "source": [
    "# Definir las columnas a analizar\n",
    "variables = ['dic_micromol_kg', 'ta_micromol_kg', 'TA_DIC_ratio']\n",
    "\n",
    "# Calcular la media y la desviación estándar agrupando por season y area\n",
    "result = terminos_df.groupby(['season', 'area'])[variables].agg(['mean', 'std']).reset_index()"
   ]
  },
  {
   "cell_type": "code",
   "execution_count": null,
   "id": "0cfce042",
   "metadata": {},
   "outputs": [],
   "source": [
    "# Renombrar las columnas para mayor claridad\n",
    "result.columns = ['_'.join(col).strip() if isinstance(col, tuple) else col for col in result.columns]\n",
    "\n",
    "# Mostrar el resultado\n",
    "print(result)"
   ]
  },
  {
   "cell_type": "code",
   "execution_count": null,
   "id": "2bcec5cd",
   "metadata": {},
   "outputs": [],
   "source": [
    "import pandas as pd\n",
    "from tabulate import tabulate"
   ]
  },
  {
   "cell_type": "code",
   "execution_count": null,
   "id": "f9843247",
   "metadata": {},
   "outputs": [],
   "source": [
    "# Formatear los valores para mostrar \"media ± desviación estándar\" sin notación científica y con dos cifras decimales\n",
    "for var in variables:\n",
    "    mean_col = f\"{var}_mean\"\n",
    "    std_col = f\"{var}_std\"\n",
    "    result[f\"{var}_formatted\"] = result.apply(lambda row: f\"{row[mean_col]:,.2f} ± {row[std_col]:,.2f}\", axis=1)"
   ]
  },
  {
   "cell_type": "code",
   "execution_count": null,
   "id": "f2775395",
   "metadata": {},
   "outputs": [],
   "source": [
    "# Seleccionar solo las columnas formateadas junto con los índices\n",
    "formatted_result = result[['season_', 'area_'] + [f\"{var}_formatted\" for var in variables]]"
   ]
  },
  {
   "cell_type": "code",
   "execution_count": null,
   "id": "440856dc",
   "metadata": {},
   "outputs": [],
   "source": [
    "# Mostrar la tabla con los resultados formateados usando tabulate\n",
    "table = tabulate(formatted_result, headers='keys', tablefmt='pretty', showindex=False)\n",
    "print(table)"
   ]
  },
  {
   "cell_type": "code",
   "execution_count": null,
   "id": "32c4e699",
   "metadata": {},
   "outputs": [],
   "source": [
    "# Guardar la tabla en un archivo CSV\n",
    "formatted_result.to_csv(\"TA_DIC_Season_Areas2.csv\", index=False)"
   ]
  },
  {
   "cell_type": "markdown",
   "id": "081e1d61",
   "metadata": {},
   "source": [
    "**Tabla para reseach articles (papers)**\n",
    "Después de salvar nuestra tabla como csv, se recomienda:\n",
    "1. Abrir el csv con bloc de notas\n",
    "2. Copiar y pegaren en Word\n",
    "3. Insertar tabla, convertir texto en tabla, separar por comas, ajustar columnas y filas, dar formato a la tabla (bordes, tamaño de letra, etc.)\n",
    "4. Verificar que no haya errores de formato o tipográficos (comas en entre miles y decimales, etc.)\n",
    "5. Guardar el documento de Word con la tabla ya formateada"
   ]
  },
  {
   "cell_type": "markdown",
   "id": "2baad6de",
   "metadata": {},
   "source": [
    "# 06 Plot_descriptive_statistics_matplotib"
   ]
  },
  {
   "cell_type": "code",
   "execution_count": null,
   "id": "a0e2e331",
   "metadata": {},
   "outputs": [],
   "source": [
    "terminos_df.head()"
   ]
  },
  {
   "cell_type": "code",
   "execution_count": null,
   "id": "f68d9110",
   "metadata": {},
   "outputs": [],
   "source": [
    "terminos_df.tail()"
   ]
  },
  {
   "cell_type": "markdown",
   "id": "8c611421",
   "metadata": {},
   "source": [
    "#### Plot a simple histogram"
   ]
  },
  {
   "cell_type": "code",
   "execution_count": null,
   "id": "65b8de40",
   "metadata": {},
   "outputs": [],
   "source": [
    "import matplotlib.pyplot as plt\n",
    "\n",
    "# Select data\n",
    "sal_data = terminos_df[\"sal_psu\"]\n",
    "\n",
    "plt.hist(sal_data, bins=10)\n",
    "plt.xlabel(\"Salinity (PSU)\")\n",
    "plt.ylabel(\"Probablity\")\n",
    "plt.show()"
   ]
  },
  {
   "cell_type": "markdown",
   "id": "573e8ea4",
   "metadata": {},
   "source": [
    "#### Normalize our inputs by the total number of counts"
   ]
  },
  {
   "cell_type": "code",
   "execution_count": 60,
   "id": "82bf7465",
   "metadata": {},
   "outputs": [
    {
     "data": {
      "image/png": "[encoded data removed]",
      "text/plain": [
       "<Figure size 640x480 with 1 Axes>"
      ]
     },
     "metadata": {},
     "output_type": "display_data"
    }
   ],
   "source": [
    "# Plot the histogram with density (nomalized)\n",
    "# Select data \n",
    "data = terminos_df[\"sal_psu\"]\n",
    "\n",
    "\n",
    "plt.hist(data, bins=10, density=True)\n",
    "plt.xlabel(\"Salinity (PSU)\")\n",
    "plt.ylabel(\"Probablity\")\n",
    "plt.show()"
   ]
  },
  {
   "cell_type": "markdown",
   "id": "5b3b775b",
   "metadata": {},
   "source": [
    "#### Boxplot Demo"
   ]
  },
  {
   "cell_type": "code",
   "execution_count": null,
   "id": "284fa5a7",
   "metadata": {},
   "outputs": [],
   "source": [
    "# Creating plot\n",
    "\n",
    "do_data = terminos_df[\"do_mg_l\"]\n",
    "plt.boxplot(do_data)\n",
    "\n",
    "plt.xlabel(\"DO (mg/L)\")\n",
    "plt.ylabel(\"Concentration\")\n",
    "plt.title(\"Boxplot of DO Concentration\")\n",
    "\n",
    "# show plot\n",
    "plt.show()"
   ]
  },
  {
   "cell_type": "code",
   "execution_count": null,
   "id": "656fa9a8",
   "metadata": {},
   "outputs": [],
   "source": [
    "# Plot boxplot for salinity data\n",
    "data = terminos_df[\"sal_psu\"]\n",
    "\n",
    "fig2, ax2 = plt.subplots()\n",
    "\n",
    "ax2.set_title('Notched boxes')\n",
    "ax2.boxplot(data, notch=True)\n",
    "\n",
    "plt.ylabel('Salinity ($PSU$)', fontsize = 12)\n",
    "plt.show()"
   ]
  },
  {
   "cell_type": "code",
   "execution_count": null,
   "id": "5b4676c2",
   "metadata": {},
   "outputs": [],
   "source": [
    "# Plot boxplot for TA data\n",
    "green_diamond = dict(markerfacecolor='g', marker='D')\n",
    "fig3, ax3 = plt.subplots()\n",
    "\n",
    "ax3.set_title('Changed Outlier Symbols')\n",
    "\n",
    "ax3.boxplot(data, flierprops=green_diamond)\n",
    "\n",
    "\n",
    "plt.ylabel('TA ($\\mu mol  \\; kg^{-1}$)', fontsize = 12)\n",
    "plt.show()"
   ]
  },
  {
   "cell_type": "markdown",
   "id": "e1200ddb",
   "metadata": {},
   "source": [
    "# Exercise: Plot histogram of DIC and TA"
   ]
  },
  {
   "cell_type": "code",
   "execution_count": 63,
   "id": "bb6194ba",
   "metadata": {},
   "outputs": [
    {
     "name": "stdout",
     "output_type": "stream",
     "text": [
      "<class 'pandas.core.frame.DataFrame'>\n",
      "RangeIndex: 106 entries, 0 to 105\n",
      "Data columns (total 22 columns):\n",
      " #   Column                   Non-Null Count  Dtype  \n",
      "---  ------                   --------------  -----  \n",
      " 0   sample                   106 non-null    object \n",
      " 1   date                     106 non-null    object \n",
      " 2   estuary                  106 non-null    object \n",
      " 3   area                     106 non-null    object \n",
      " 4   station                  106 non-null    object \n",
      " 5   layer_depth              106 non-null    object \n",
      " 6   season                   106 non-null    object \n",
      " 7   chlorophy_microg_l       106 non-null    float64\n",
      " 8   cond_microsiemens_cm     106 non-null    float64\n",
      " 9   depth_m                  106 non-null    float64\n",
      " 10  do_percent_sat           106 non-null    float64\n",
      " 11  do_mg_l                  106 non-null    float64\n",
      " 12  sal_psu                  106 non-null    float64\n",
      " 13  sp_cond_microsiemens_cm  106 non-null    float64\n",
      " 14  turbidity_fnu            106 non-null    float64\n",
      " 15  temp_c                   106 non-null    float64\n",
      " 16  latitude                 106 non-null    float64\n",
      " 17  longitude                106 non-null    float64\n",
      " 18  dic_micromol_kg          106 non-null    int64  \n",
      " 19  ta_micromol_kg           106 non-null    int64  \n",
      " 20  dummy_data               99 non-null     float64\n",
      " 21  TA_DIC_ratio             106 non-null    float64\n",
      "dtypes: float64(13), int64(2), object(7)\n",
      "memory usage: 18.3+ KB\n"
     ]
    }
   ],
   "source": [
    "terminos_df.info()"
   ]
  },
  {
   "cell_type": "code",
   "execution_count": null,
   "id": "d25a9b64",
   "metadata": {},
   "outputs": [
    {
     "data": {
      "image/png": "[encoded data removed]",
      "text/plain": [
       "<Figure size 640x480 with 1 Axes>"
      ]
     },
     "metadata": {},
     "output_type": "display_data"
    }
   ],
   "source": [
    "#Plot histogram of DIC\n",
    "import matplotlib.pyplot as plt\n",
    "\n",
    "# Select data DIC\n",
    "sal_data = terminos_df[\"dic_micromol_kg\"]\n",
    "\n",
    "plt.hist(sal_data, bins=10, color='mediumseagreen', edgecolor='black')\n",
    "plt.xlabel(\"DIC (µmol/kg)\")\n",
    "plt.ylabel(\"Frequency\")\n",
    "plt.show()"
   ]
  },
  {
   "cell_type": "code",
   "execution_count": 66,
   "id": "d5e18c00",
   "metadata": {},
   "outputs": [
    {
     "data": {
      "image/png": "[encoded data removed]",
      "text/plain": [
       "<Figure size 640x480 with 1 Axes>"
      ]
     },
     "metadata": {},
     "output_type": "display_data"
    }
   ],
   "source": [
    "#Plot histogram of TA\n",
    "ta_data = terminos_df[\"ta_micromol_kg\"]\n",
    "\n",
    "# Select data TA\n",
    "plt.hist(ta_data, bins=10, color='lightblue', edgecolor='black')\n",
    "plt.xlabel(\"TA (µmol/kg)\")\n",
    "plt.ylabel(\"Frequency\")\n",
    "plt.show()"
   ]
  },
  {
   "cell_type": "markdown",
   "id": "670bb06b",
   "metadata": {},
   "source": []
  },
  {
   "cell_type": "code",
   "execution_count": null,
   "id": "8ab05d8b",
   "metadata": {},
   "outputs": [],
   "source": []
  }
 ],
 "metadata": {
  "kernelspec": {
   "display_name": "base",
   "language": "python",
   "name": "python3"
  },
  "language_info": {
   "codemirror_mode": {
    "name": "ipython",
    "version": 3
   },
   "file_extension": ".py",
   "mimetype": "text/x-python",
   "name": "python",
   "nbconvert_exporter": "python",
   "pygments_lexer": "ipython3",
   "version": "3.13.5"
  }
 },
 "nbformat": 4,
 "nbformat_minor": 5
}
