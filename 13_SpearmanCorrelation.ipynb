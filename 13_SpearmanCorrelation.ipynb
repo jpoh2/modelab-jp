{
 "cells": [
  {
   "cell_type": "code",
   "execution_count": 2,
   "id": "e368939e",
   "metadata": {},
   "outputs": [],
   "source": [
    "#Definir FUNCIÓN que me permitirá importar un archivo CSV y cargarlo en un DataFrame de pandas\n",
    "def import_csv(file):\n",
    "    # Read the csv file into a DataFrame: df con el paquete pandas\n",
    "    import pandas as pd  #Python llama a paquetería pandas \n",
    "    return pd.read_csv(file)"
   ]
  },
  {
   "cell_type": "code",
   "execution_count": 3,
   "id": "e11bbefe",
   "metadata": {},
   "outputs": [],
   "source": [
    "#Utilizar el nombre de la FUNCIÓN PREdefinida y la ruta de acceso (path) al archivo .csv de interés\n",
    "import_csv(\"C:/Projects/modelab_jp/data/Terminos_lagoon_TA_DIC_2023_RawData.csv\")\n",
    "terminos_df = import_csv(\"C:/Projects/modelab_jp/data/Terminos_lagoon_TA_DIC_2023_RawData.csv\")"
   ]
  },
  {
   "cell_type": "code",
   "execution_count": 7,
   "id": "86394b96",
   "metadata": {},
   "outputs": [],
   "source": [
    "from scipy import stats\n",
    "\n",
    "def test_spearman(x, y, alpha=0.05):\n",
    "    if len(x) != len(y):\n",
    "        raise ValueError(\"Las variables deben tener la misma longitud.\")\n",
    "\n",
    "    rho, pval = stats.spearmanr(x, y)\n",
    "\n",
    "    print(f\"Spearman's correlation coefficient (rho): {rho:.3f}\")\n",
    "    print(f\"p-value: {pval:.4f}\")\n",
    "\n",
    "    if pval < alpha:\n",
    "        print(f\"✔️ Significant relationship (p < {alpha:.3f})\")\n",
    "    else:\n",
    "        print(f\"⚠️ No significant relationship (p ≥ {alpha:.3f})\")\n",
    "\n",
    "    if rho > 0:\n",
    "        print(\"📈 Positive correlation\")\n",
    "    else:\n",
    "        print(\"📉 No correlation\")"
   ]
  },
  {
   "cell_type": "code",
   "execution_count": 6,
   "id": "ac22c003",
   "metadata": {},
   "outputs": [
    {
     "name": "stdout",
     "output_type": "stream",
     "text": [
      "Spearman's correlation coefficient (rho): 0.838\n",
      "p-value: 0.0000\n",
      "✔️ Significant relationship (p < 0.050)\n",
      "📈 Positive correlation\n"
     ]
    }
   ],
   "source": [
    "test_spearman(terminos_df[\"ta_micromol_kg\"], terminos_df[\"dic_micromol_kg\"])"
   ]
  },
  {
   "cell_type": "markdown",
   "id": "459570fc",
   "metadata": {},
   "source": [
    "###### Spearman's correlation is a non-parametric measure that evaluates the strength and direction of the association between two variables based on their ranks. Consider using Spearman's correlation in the following scenarios:\n",
    "\n",
    "###### **Non-Normal Data**: When your data do not follow a normal distribution, Spearman's correlation is appropriate because it does not assume normality.\n",
    "\n",
    "###### **Ordinal Data**: If your variables are ordinal (i.e., they represent categories with a meaningful order but unknown intervals), Spearman's correlation is suitable. For example, rankings like first, second, and third place.\n",
    "\n",
    "###### **Monotonic Relationships**: When the relationship between two variables is monotonic but not necessarily linear—meaning as one variable increases, the other either consistently increases or decreases—Spearman's correlation can effectively measure the strength of this association.\n",
    "\n",
    "###### **Outliers Present**: Spearman's correlation is more robust to outliers compared to Pearson's correlation, making it a better choice when your data contain anomalies that could disproportionately influence the results.\n",
    "\n",
    "###### In summary, use Spearman's correlation when your data are ordinal, not normally distributed, or when you suspect a monotonic relationship that isn't strictly linear. It's also a good choice when your data contain outliers that could affect the results of other correlation measures."
   ]
  },
  {
   "cell_type": "markdown",
   "id": "06b87d05",
   "metadata": {},
   "source": [
    "# Exercise: Create a function to compute the Pearson correlation"
   ]
  },
  {
   "cell_type": "code",
   "execution_count": 15,
   "id": "f5ca3265",
   "metadata": {},
   "outputs": [],
   "source": [
    "from scipy import stats\n",
    "\n",
    "def test_pearson(x, y, alpha=0.05):\n",
    "    if len(x) != len(y):\n",
    "        raise ValueError(\"Las variables deben tener la misma longitud.\")\n",
    "\n",
    "    r, pval = stats.pearsonr(x, y)\n",
    "\n",
    "    print(f\"Pearson's correlation coefficient (r): {r:.3f}\")\n",
    "    print(f\"p-value: {pval:.4f}\")\n",
    "\n",
    "#Evaluación de significancia\n",
    "    if pval < alpha:\n",
    "        print(f\"✔️ Significant relationship (p < {alpha:.3f})\")\n",
    "    else:\n",
    "        print(f\"⚠️ No significant relationship (p ≥ {alpha:.3f})\")\n",
    "\n",
    "# Evaluación del signo de la correlación\n",
    "    if r > 0:\n",
    "        print(\"📈 Positive correlation\")\n",
    "    else:\n",
    "        print(\"📉 No correlation\")"
   ]
  },
  {
   "cell_type": "code",
   "execution_count": 16,
   "id": "b7bcc997",
   "metadata": {},
   "outputs": [
    {
     "name": "stdout",
     "output_type": "stream",
     "text": [
      "Pearson's correlation coefficient (r): 0.882\n",
      "p-value: 0.0000\n",
      "✔️ Significant relationship (p < 0.050)\n",
      "📈 Positive correlation\n"
     ]
    }
   ],
   "source": [
    "test_pearson(terminos_df[\"ta_micromol_kg\"], terminos_df[\"dic_micromol_kg\"])"
   ]
  },
  {
   "cell_type": "code",
   "execution_count": null,
   "id": "146d083d",
   "metadata": {},
   "outputs": [],
   "source": []
  }
 ],
 "metadata": {
  "kernelspec": {
   "display_name": "base",
   "language": "python",
   "name": "python3"
  },
  "language_info": {
   "codemirror_mode": {
    "name": "ipython",
    "version": 3
   },
   "file_extension": ".py",
   "mimetype": "text/x-python",
   "name": "python",
   "nbconvert_exporter": "python",
   "pygments_lexer": "ipython3",
   "version": "3.13.5"
  }
 },
 "nbformat": 4,
 "nbformat_minor": 5
}
