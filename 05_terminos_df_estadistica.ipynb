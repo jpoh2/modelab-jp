{
 "cells": [
  {
   "cell_type": "markdown",
   "id": "55d9ac9a",
   "metadata": {},
   "source": [
    "## Loading a CSV File with pandas in VSCode\n"
   ]
  },
  {
   "cell_type": "code",
   "execution_count": 30,
   "id": "8c372174",
   "metadata": {},
   "outputs": [],
   "source": [
    "#Definir FUNCIÓN que me permitirá importar un archivo CSV y cargarlo en un DataFrame de pandas\n",
    "def import_csv(file):\n",
    "    # Read the csv file into a DataFrame: df con el paquete pandas\n",
    "    import pandas as pd  #Python llama a paquetería pandas \n",
    "    return pd.read_csv(file)"
   ]
  },
  {
   "cell_type": "code",
   "execution_count": 31,
   "id": "6ad14918",
   "metadata": {},
   "outputs": [
    {
     "data": {
      "application/vnd.microsoft.datawrangler.viewer.v0+json": {
       "columns": [
        {
         "name": "index",
         "rawType": "int64",
         "type": "integer"
        },
        {
         "name": "sample",
         "rawType": "object",
         "type": "string"
        },
        {
         "name": "date",
         "rawType": "object",
         "type": "string"
        },
        {
         "name": "estuary",
         "rawType": "object",
         "type": "string"
        },
        {
         "name": "area",
         "rawType": "object",
         "type": "string"
        },
        {
         "name": "station",
         "rawType": "object",
         "type": "string"
        },
        {
         "name": "layer_depth",
         "rawType": "object",
         "type": "string"
        },
        {
         "name": "season",
         "rawType": "object",
         "type": "string"
        },
        {
         "name": "chlorophy_microg_l",
         "rawType": "float64",
         "type": "float"
        },
        {
         "name": "cond_microsiemens_cm",
         "rawType": "float64",
         "type": "float"
        },
        {
         "name": "depth_m",
         "rawType": "float64",
         "type": "float"
        },
        {
         "name": "do_percent_sat",
         "rawType": "float64",
         "type": "float"
        },
        {
         "name": "do_mg_l",
         "rawType": "float64",
         "type": "float"
        },
        {
         "name": "sal_psu",
         "rawType": "float64",
         "type": "float"
        },
        {
         "name": "sp_cond_microsiemens_cm",
         "rawType": "float64",
         "type": "float"
        },
        {
         "name": "turbidity_fnu",
         "rawType": "float64",
         "type": "float"
        },
        {
         "name": "temp_c",
         "rawType": "float64",
         "type": "float"
        },
        {
         "name": "latitude",
         "rawType": "float64",
         "type": "float"
        },
        {
         "name": "longitude",
         "rawType": "float64",
         "type": "float"
        },
        {
         "name": "dic_micromol_kg",
         "rawType": "int64",
         "type": "integer"
        },
        {
         "name": "ta_micromol_kg",
         "rawType": "int64",
         "type": "integer"
        },
        {
         "name": "dummy_data",
         "rawType": "float64",
         "type": "float"
        }
       ],
       "ref": "82b41e4d-f867-4b1c-9cd5-b8d3381f4bf8",
       "rows": [
        [
         "0",
         "CDL01S",
         "5/3/2020",
         "Candelaria",
         "River",
         "CDL01",
         "Surface",
         "Dry",
         "0.36",
         "7015.4",
         "0.464",
         "93.9",
         "7.12",
         "3.56",
         "6547.7",
         "1.47",
         "28.74",
         "18.55736",
         "-91.25012",
         "3915",
         "3863",
         "3685.0"
        ],
        [
         "1",
         "CDL01F",
         "5/3/2020",
         "Candelaria",
         "River",
         "CDL01",
         "Bottom",
         "Dry",
         "4.19",
         "29886.1",
         "7.792",
         "70.1",
         "4.9",
         "16.97",
         "27751.2",
         "95.33",
         "29.028",
         "18.55722",
         "-91.2499",
         "3698",
         "3685",
         null
        ],
        [
         "2",
         "CDL02S",
         "5/3/2020",
         "Candelaria",
         "River",
         "CDL02",
         "Surface",
         "Dry",
         "0.92",
         "16691.1",
         "0.453",
         "95.9",
         "6.99",
         "8.94",
         "15429.1",
         "5.5",
         "29.283",
         "18.61007",
         "-91.2441",
         "3724",
         "3708",
         "3708.0"
        ],
        [
         "3",
         "CDL02F",
         "5/3/2020",
         "Candelaria",
         "River",
         "CDL02",
         "Bottom",
         "Dry",
         "2.23",
         "24847.4",
         "1.261",
         "91.5",
         "6.52",
         "13.87",
         "23074.0",
         "13.44",
         "29.024",
         "18.61005",
         "-91.24403",
         "3667",
         "3992",
         "3992.0"
        ],
        [
         "4",
         "CDL03S",
         "5/3/2020",
         "Candelaria",
         "River",
         "CDL03",
         "Surface",
         "Dry",
         "0.58",
         "46341.6",
         "0.465",
         "93.4",
         "6.24",
         "28.06",
         "43670.8",
         "3.6",
         "28.202",
         "18.63166",
         "-91.29359",
         "2928",
         "3023",
         "3023.0"
        ],
        [
         "5",
         "CDL03F",
         "5/3/2020",
         "Candelaria",
         "River",
         "CDL03",
         "Bottom",
         "Dry",
         "22.49",
         "39453.4",
         "1.867",
         "1.7",
         "0.12",
         "24.01",
         "37919.1",
         "108.11",
         "27.118",
         "18.63163",
         "-91.29297",
         "2752",
         "2849",
         "2849.0"
        ],
        [
         "6",
         "CDL04S",
         "5/3/2020",
         "Candelaria",
         "Plume",
         "CDL04",
         "Surface",
         "Dry",
         "0.98",
         "51682.3",
         "0.474",
         "103.3",
         "6.85",
         "32.46",
         "49690.8",
         "3.34",
         "27.098",
         "18.67964",
         "-91.34973",
         "2672",
         "2828",
         "2828.0"
        ],
        [
         "7",
         "CDL04F",
         "5/3/2020",
         "Candelaria",
         "Plume",
         "CDL04",
         "Bottom",
         "Dry",
         "4.83",
         "51790.8",
         "2.779",
         "94.8",
         "6.33",
         "32.93",
         "50319.5",
         "14.24",
         "26.531",
         "18.67966",
         "-91.34956",
         "2613",
         "2818",
         "2818.0"
        ],
        [
         "8",
         "CDL05S",
         "5/3/2020",
         "Candelaria",
         "Plume",
         "CDL05",
         "Surface",
         "Dry",
         "1.62",
         "51497.0",
         "0.442",
         "100.6",
         "6.71",
         "32.62",
         "49892.1",
         "6.1",
         "26.684",
         "18.70429",
         "-91.36858",
         "2652",
         "2828",
         "2828.0"
        ],
        [
         "9",
         "CDL05F",
         "5/3/2020",
         "Candelaria",
         "Plume",
         "CDL05",
         "Bottom",
         "Dry",
         "14.2",
         "50724.7",
         "3.373",
         "89.2",
         "6.04",
         "32.65",
         "49905.6",
         "283.23",
         "25.859",
         "18.70432",
         "-91.36842",
         "2668",
         "2840",
         "2840.0"
        ],
        [
         "10",
         "CDL06S",
         "5/3/2020",
         "Candelaria",
         "Plume",
         "CDL06",
         "Surface",
         "Dry",
         "0.92",
         "16691.1",
         "0.453",
         "95.9",
         "6.99",
         "8.94",
         "15429.1",
         "5.5",
         "29.283",
         "18.61007",
         "-91.2441",
         "2737",
         "2933",
         "2933.0"
        ],
        [
         "11",
         "CDL06F",
         "5/3/2020",
         "Candelaria",
         "Plume",
         "CDL06",
         "Bottom",
         "Dry",
         "1.87",
         "22443.9",
         "1.199",
         "92.4",
         "6.64",
         "12.39",
         "20822.3",
         "11.58",
         "29.078",
         "18.61005",
         "-91.244",
         "2636",
         "2833",
         null
        ],
        [
         "12",
         "CDL07S",
         "5/3/2020",
         "Candelaria",
         "Coast",
         "CDL07",
         "Surface",
         "Dry",
         "1.42",
         "50230.3",
         "0.443",
         "98.0",
         "6.55",
         "31.58",
         "48479.5",
         "8.4",
         "26.891",
         "18.76266",
         "-91.41798",
         "2792",
         "2977",
         "2977.0"
        ],
        [
         "13",
         "CDL07F",
         "5/3/2020",
         "Candelaria",
         "Coast",
         "CDL07",
         "Bottom",
         "Dry",
         "2.59",
         "50220.5",
         "1.131",
         "97.8",
         "6.54",
         "31.58",
         "48482.6",
         "24.6",
         "26.877",
         "18.76274",
         "-91.41786",
         "2753",
         "2992",
         "2992.0"
        ],
        [
         "14",
         "CDL08S",
         "5/3/2020",
         "Candelaria",
         "Coast",
         "CDL08",
         "Surface",
         "Dry",
         "1.07",
         "56590.8",
         "0.5",
         "98.7",
         "6.49",
         "36.65",
         "55320.2",
         "5.25",
         "26.202",
         "18.79019",
         "-91.5124",
         "2429",
         "2650",
         "2650.0"
        ],
        [
         "15",
         "CDL08F",
         "5/3/2020",
         "Candelaria",
         "Coast",
         "CDL08",
         "Bottom",
         "Dry",
         "2.73",
         "57305.9",
         "4.844",
         "98.2",
         "6.47",
         "37.53",
         "56487.3",
         "8.22",
         "25.759",
         "18.78962",
         "-91.51148",
         "2459",
         "2659",
         "2659.0"
        ],
        [
         "16",
         "CDL09S",
         "5/3/2020",
         "Candelaria",
         "Coast",
         "CDL09",
         "Surface",
         "Dry",
         "1.04",
         "57148.0",
         "0.629",
         "98.7",
         "6.49",
         "37.25",
         "56114.6",
         "3.65",
         "25.964",
         "18.81618",
         "-91.53129",
         "2467",
         "2649",
         "2649.0"
        ],
        [
         "17",
         "CDL09F",
         "5/3/2020",
         "Candelaria",
         "Coast",
         "CDL09",
         "Bottom",
         "Dry",
         "2.57",
         "57652.3",
         "8.183",
         "99.3",
         "6.61",
         "38.65",
         "57939.3",
         "4.63",
         "24.741",
         "18.81641",
         "-91.53098",
         "2305",
         "2500",
         "2500.0"
        ],
        [
         "18",
         "PLZ01S",
         "4/3/2020",
         "Palizada",
         "River",
         "PLZ01",
         "Surface",
         "Dry",
         "6.39",
         "698.9",
         "0.533",
         "95.9",
         "7.66",
         "0.33",
         "676.2",
         "23.56",
         "26.757",
         "18.42404",
         "-91.84",
         "3315",
         "3195",
         "3195.0"
        ],
        [
         "19",
         "PLZ01F",
         "4/3/2020",
         "Palizada",
         "River",
         "PLZ01",
         "Bottom",
         "Dry",
         "8.07",
         "698.4",
         "5.435",
         "94.6",
         "7.57",
         "0.33",
         "676.4",
         "26.32",
         "26.709",
         "18.42403",
         "-91.83997",
         "3338",
         "3216",
         "3216.0"
        ],
        [
         "20",
         "PLZ02S",
         "4/3/2020",
         "Palizada",
         "River",
         "PLZ02",
         "Surface",
         "Dry",
         "5.76",
         "1023.2",
         "0.318",
         "92.6",
         "7.33",
         "0.48",
         "981.6",
         "27.05",
         "27.221",
         "18.45095",
         "-91.81013",
         "3407",
         "3221",
         "3221.0"
        ],
        [
         "21",
         "PLZ02F",
         "4/3/2020",
         "Palizada",
         "River",
         "PLZ02",
         "Bottom",
         "Dry",
         "7.28",
         "1154.4",
         "0.624",
         "90.2",
         "7.17",
         "0.55",
         "1111.6",
         "48.55",
         "27.016",
         "18.45096",
         "-91.81015",
         "3222",
         "3223",
         "3223.0"
        ],
        [
         "22",
         "PLZ03S",
         "4/3/2020",
         "Palizada",
         "River",
         "PLZ03",
         "Surface",
         "Dry",
         "2.57",
         "4599.4",
         "0.349",
         "91.1",
         "7.18",
         "2.36",
         "4440.7",
         "26.52",
         "26.871",
         "18.4866",
         "-91.79567",
         "3180",
         "3105",
         "3105.0"
        ],
        [
         "23",
         "PLZ03F",
         "4/3/2020",
         "Palizada",
         "River",
         "PLZ03",
         "Bottom",
         "Dry",
         "2.92",
         "4638.7",
         "5.256",
         "89.8",
         "7.08",
         "2.38",
         "4481.7",
         "27.52",
         "26.835",
         "18.4866",
         "-91.79569",
         "3162",
         "3090",
         "3090.0"
        ],
        [
         "24",
         "PLZ04S",
         "4/3/2020",
         "Palizada",
         "Plume",
         "PLZ04",
         "Surface",
         "Dry",
         "2.62",
         "14471.7",
         "0.418",
         "101.1",
         "7.6",
         "7.9",
         "13733.7",
         "9.68",
         "27.813",
         "18.49965",
         "-91.78983",
         "3048",
         "3002",
         "3002.0"
        ],
        [
         "25",
         "PLZ04F",
         "4/3/2020",
         "Palizada",
         "Plume",
         "PLZ04",
         "Bottom",
         "Dry",
         "30.88",
         "35722.5",
         "1.306",
         "97.0",
         "6.93",
         "21.94",
         "34933.6",
         "336.87",
         "26.182",
         "18.49963",
         "-91.78983",
         "3007",
         "3060",
         null
        ],
        [
         "26",
         "PLZ05S",
         "4/3/2020",
         "Palizada",
         "Plume",
         "PLZ05",
         "Surface",
         "Dry",
         "3.37",
         "44859.7",
         "0.346",
         "99.0",
         "6.86",
         "28.49",
         "44185.1",
         "20.62",
         "25.799",
         "18.53635",
         "-91.79076",
         "2694",
         "2878",
         "2878.0"
        ],
        [
         "27",
         "PLZ05F",
         "4/3/2020",
         "Palizada",
         "Plume",
         "PLZ05",
         "Bottom",
         "Dry",
         "10.74",
         "44668.5",
         "3.019",
         "97.5",
         "6.78",
         "28.5",
         "44191.6",
         "130.28",
         "25.565",
         "18.53635",
         "-91.79074",
         "2817",
         "2814",
         "2814.0"
        ],
        [
         "28",
         "PLZ06S",
         "4/3/2020",
         "Palizada",
         "Plume",
         "PLZ06",
         "Surface",
         "Dry",
         "4.26",
         "47614.6",
         "0.428",
         "101.4",
         "6.94",
         "30.38",
         "46801.9",
         "33.84",
         "25.909",
         "18.5621",
         "-91.79971",
         "2670",
         "2755",
         "2755.0"
        ],
        [
         "29",
         "PLZ06F",
         "4/3/2020",
         "Palizada",
         "Plume",
         "PLZ06",
         "Bottom",
         "Dry",
         "12.19",
         "46978.4",
         "3.371",
         "21.6",
         "1.48",
         "30.08",
         "46378.2",
         "172.26",
         "25.677",
         "18.56095",
         "-91.79879",
         "2794",
         "2958",
         "2958.0"
        ],
        [
         "30",
         "PLZ07S",
         "4/3/2020",
         "Palizada",
         "Coast",
         "PLZ07",
         "Surface",
         "Dry",
         "5.16",
         "49775.6",
         "0.617",
         "99.8",
         "6.78",
         "32.02",
         "49044.1",
         "60.99",
         "25.781",
         "18.59128",
         "-91.82703",
         "2627",
         "2737",
         "2737.0"
        ],
        [
         "31",
         "PLZ07F",
         "4/3/2020",
         "Palizada",
         "Coast",
         "PLZ07",
         "Bottom",
         "Dry",
         "7.38",
         "49747.9",
         "3.579",
         "99.0",
         "6.73",
         "31.98",
         "48999.8",
         "196.98",
         "25.799",
         "18.58909",
         "-91.82693",
         "2698",
         "3726",
         "3726.0"
        ],
        [
         "32",
         "PLZ08S",
         "4/3/2020",
         "Palizada",
         "Coast",
         "PLZ08",
         "Surface",
         "Dry",
         "5.35",
         "52626.9",
         "0.719",
         "101.5",
         "6.81",
         "33.99",
         "51732.6",
         "28.16",
         "25.905",
         "18.63975",
         "-91.86967",
         "2628",
         "2715",
         "2715.0"
        ],
        [
         "33",
         "PLZ08F",
         "4/3/2020",
         "Palizada",
         "Coast",
         "PLZ08",
         "Bottom",
         "Dry",
         "10.02",
         "54180.3",
         "5.247",
         "101.0",
         "6.73",
         "35.16",
         "53313.2",
         "579.01",
         "25.852",
         "18.6387",
         "-91.86841",
         "2616",
         "3616",
         "3616.0"
        ],
        [
         "34",
         "PLZ09S",
         "4/3/2020",
         "Palizada",
         "Coast",
         "PLZ09",
         "Surface",
         "Dry",
         "3.46",
         "55816.2",
         "0.432",
         "105.4",
         "6.94",
         "36.02",
         "54478.1",
         "35.62",
         "26.286",
         "18.66718",
         "-91.90111",
         "2501",
         "2635",
         "2635.0"
        ],
        [
         "35",
         "PLZ09F",
         "4/3/2020",
         "Palizada",
         "Coast",
         "PLZ09",
         "Bottom",
         "Dry",
         "8.14",
         "55518.1",
         "3.906",
         "103.3",
         "6.83",
         "35.92",
         "54336.9",
         "358.77",
         "26.138",
         "18.6653",
         "-91.90082",
         "2500",
         "3646",
         "3646.0"
        ],
        [
         "36",
         "CDL01S",
         "26/11/2020",
         "Candelaria",
         "River",
         "CDL01",
         "Surface",
         "Rainy",
         "2.52",
         "760.1",
         "0.558",
         "67.8",
         "5.43",
         "0.36",
         "736.7",
         "2.37",
         "26.67",
         "18.55681",
         "-91.25012",
         "2958",
         "2847",
         "2847.0"
        ],
        [
         "37",
         "CDL01F",
         "26/11/2020",
         "Candelaria",
         "River",
         "CDL01",
         "Bottom",
         "Rainy",
         "2.49",
         "763.6",
         "3.302",
         "66.1",
         "5.3",
         "0.36",
         "740.7",
         "2.72",
         "26.618",
         "18.55674",
         "-91.25021",
         "2965",
         "2841",
         "2841.0"
        ],
        [
         "38",
         "CDL02S",
         "26/11/2020",
         "Candelaria",
         "River",
         "CDL02",
         "Surface",
         "Rainy",
         "2.31",
         "777.7",
         "0.556",
         "67.5",
         "5.39",
         "0.36",
         "751.9",
         "3.29",
         "26.801",
         "18.60981",
         "-91.24462",
         "2965",
         "2860",
         "2860.0"
        ],
        [
         "39",
         "CDL02F",
         "26/11/2020",
         "Candelaria",
         "River",
         "CDL02",
         "Bottom",
         "Rainy",
         "2.31",
         "778.6",
         "1.827",
         "66.8",
         "5.34",
         "0.37",
         "752.9",
         "3.63",
         "26.787",
         "18.60986",
         "-91.24459",
         "2973",
         "2865",
         null
        ],
        [
         "40",
         "CDL03S",
         "26/11/2020",
         "Candelaria",
         "River",
         "CDL03",
         "Surface",
         "Rainy",
         "6.87",
         "13814.4",
         "0.256",
         "72.0",
         "5.45",
         "7.56",
         "13182.4",
         "9.64",
         "27.51",
         "18.62985",
         "-91.29398",
         "2528",
         "2501",
         "2501.0"
        ],
        [
         "41",
         "CDL04S",
         "26/11/2020",
         "Candelaria",
         "Plume",
         "CDL04",
         "Surface",
         "Rainy",
         "4.36",
         "15360.9",
         "0.468",
         "108.3",
         "8.12",
         "8.43",
         "14584.0",
         "3.53",
         "27.789",
         "18.68223",
         "-91.3494",
         "2357",
         "2438",
         "2438.0"
        ],
        [
         "42",
         "CDL04F",
         "26/11/2020",
         "Candelaria",
         "Plume",
         "CDL04",
         "Bottom",
         "Rainy",
         "7.44",
         "37445.1",
         "2.808",
         "9.6",
         "0.67",
         "22.6",
         "35908.0",
         "203.05",
         "27.241",
         "18.68232",
         "-91.34964",
         "2233",
         "2359",
         "2359.0"
        ],
        [
         "43",
         "CDL05S",
         "26/11/2020",
         "Candelaria",
         "Plume",
         "CDL05",
         "Surface",
         "Rainy",
         "5.05",
         "16092.3",
         "0.575",
         "108.0",
         "8.1",
         "8.89",
         "15320.7",
         "3.65",
         "27.637",
         "18.71439",
         "-91.37791",
         "2348",
         "2428",
         "2428.0"
        ],
        [
         "44",
         "CDL05F",
         "26/11/2020",
         "Candelaria",
         "Plume",
         "CDL05",
         "Bottom",
         "Rainy",
         "9.11",
         "24591.8",
         "2.888",
         "30.6",
         "2.21",
         "14.16",
         "23487.8",
         "59.78",
         "27.461",
         "18.71432",
         "-91.3782",
         "2425",
         "2542",
         "2542.0"
        ],
        [
         "45",
         "CDL06S",
         "26/11/2020",
         "Candelaria",
         "Plume",
         "CDL06",
         "Surface",
         "Rainy",
         "3.71",
         "17193.7",
         "0.525",
         "105.7",
         "7.9",
         "9.57",
         "16398.7",
         "3.54",
         "27.538",
         "18.74056",
         "-91.40433",
         "2302",
         "2409",
         "2409.0"
        ],
        [
         "46",
         "CDL07S",
         "26/11/2020",
         "Candelaria",
         "Coast",
         "CDL07",
         "Surface",
         "Rainy",
         "3.09",
         "22135.8",
         "0.463",
         "104.6",
         "7.66",
         "12.54",
         "21014.4",
         "5.84",
         "27.794",
         "18.75769",
         "-91.42616",
         "2361",
         "2415",
         "2415.0"
        ],
        [
         "47",
         "CDL07F",
         "26/11/2020",
         "Candelaria",
         "Coast",
         "CDL07",
         "Bottom",
         "Rainy",
         "4.55",
         "22051.1",
         "0.939",
         "105.5",
         "7.75",
         "12.52",
         "20987.7",
         "6.4",
         "27.653",
         "18.75773",
         "-91.42627",
         "2336",
         "2417",
         "2417.0"
        ],
        [
         "48",
         "CDL08S",
         "26/11/2020",
         "Candelaria",
         "Coast",
         "CDL08",
         "Surface",
         "Rainy",
         "4.23",
         "53283.8",
         "0.525",
         "85.1",
         "5.6",
         "33.51",
         "51121.4",
         "4.74",
         "27.215",
         "18.78749",
         "-91.51488",
         "2239",
         "2429",
         "2429.0"
        ],
        [
         "49",
         "CDL08F",
         "26/11/2020",
         "Candelaria",
         "Coast",
         "CDL08",
         "Bottom",
         "Rainy",
         "16.47",
         "59438.3",
         "4.294",
         "79.3",
         "5.1",
         "38.07",
         "57249.5",
         "27.02",
         "27.002",
         "18.78729",
         "-91.51476",
         "2258",
         "2412",
         "2412.0"
        ]
       ],
       "shape": {
        "columns": 21,
        "rows": 106
       }
      },
      "text/html": [
       "<div>\n",
       "<style scoped>\n",
       "    .dataframe tbody tr th:only-of-type {\n",
       "        vertical-align: middle;\n",
       "    }\n",
       "\n",
       "    .dataframe tbody tr th {\n",
       "        vertical-align: top;\n",
       "    }\n",
       "\n",
       "    .dataframe thead th {\n",
       "        text-align: right;\n",
       "    }\n",
       "</style>\n",
       "<table border=\"1\" class=\"dataframe\">\n",
       "  <thead>\n",
       "    <tr style=\"text-align: right;\">\n",
       "      <th></th>\n",
       "      <th>sample</th>\n",
       "      <th>date</th>\n",
       "      <th>estuary</th>\n",
       "      <th>area</th>\n",
       "      <th>station</th>\n",
       "      <th>layer_depth</th>\n",
       "      <th>season</th>\n",
       "      <th>chlorophy_microg_l</th>\n",
       "      <th>cond_microsiemens_cm</th>\n",
       "      <th>depth_m</th>\n",
       "      <th>...</th>\n",
       "      <th>do_mg_l</th>\n",
       "      <th>sal_psu</th>\n",
       "      <th>sp_cond_microsiemens_cm</th>\n",
       "      <th>turbidity_fnu</th>\n",
       "      <th>temp_c</th>\n",
       "      <th>latitude</th>\n",
       "      <th>longitude</th>\n",
       "      <th>dic_micromol_kg</th>\n",
       "      <th>ta_micromol_kg</th>\n",
       "      <th>dummy_data</th>\n",
       "    </tr>\n",
       "  </thead>\n",
       "  <tbody>\n",
       "    <tr>\n",
       "      <th>0</th>\n",
       "      <td>CDL01S</td>\n",
       "      <td>5/3/2020</td>\n",
       "      <td>Candelaria</td>\n",
       "      <td>River</td>\n",
       "      <td>CDL01</td>\n",
       "      <td>Surface</td>\n",
       "      <td>Dry</td>\n",
       "      <td>0.36</td>\n",
       "      <td>7015.4</td>\n",
       "      <td>0.464</td>\n",
       "      <td>...</td>\n",
       "      <td>7.12</td>\n",
       "      <td>3.56</td>\n",
       "      <td>6547.7</td>\n",
       "      <td>1.47</td>\n",
       "      <td>28.740</td>\n",
       "      <td>18.55736</td>\n",
       "      <td>-91.25012</td>\n",
       "      <td>3915</td>\n",
       "      <td>3863</td>\n",
       "      <td>3685.0</td>\n",
       "    </tr>\n",
       "    <tr>\n",
       "      <th>1</th>\n",
       "      <td>CDL01F</td>\n",
       "      <td>5/3/2020</td>\n",
       "      <td>Candelaria</td>\n",
       "      <td>River</td>\n",
       "      <td>CDL01</td>\n",
       "      <td>Bottom</td>\n",
       "      <td>Dry</td>\n",
       "      <td>4.19</td>\n",
       "      <td>29886.1</td>\n",
       "      <td>7.792</td>\n",
       "      <td>...</td>\n",
       "      <td>4.90</td>\n",
       "      <td>16.97</td>\n",
       "      <td>27751.2</td>\n",
       "      <td>95.33</td>\n",
       "      <td>29.028</td>\n",
       "      <td>18.55722</td>\n",
       "      <td>-91.24990</td>\n",
       "      <td>3698</td>\n",
       "      <td>3685</td>\n",
       "      <td>NaN</td>\n",
       "    </tr>\n",
       "    <tr>\n",
       "      <th>2</th>\n",
       "      <td>CDL02S</td>\n",
       "      <td>5/3/2020</td>\n",
       "      <td>Candelaria</td>\n",
       "      <td>River</td>\n",
       "      <td>CDL02</td>\n",
       "      <td>Surface</td>\n",
       "      <td>Dry</td>\n",
       "      <td>0.92</td>\n",
       "      <td>16691.1</td>\n",
       "      <td>0.453</td>\n",
       "      <td>...</td>\n",
       "      <td>6.99</td>\n",
       "      <td>8.94</td>\n",
       "      <td>15429.1</td>\n",
       "      <td>5.50</td>\n",
       "      <td>29.283</td>\n",
       "      <td>18.61007</td>\n",
       "      <td>-91.24410</td>\n",
       "      <td>3724</td>\n",
       "      <td>3708</td>\n",
       "      <td>3708.0</td>\n",
       "    </tr>\n",
       "    <tr>\n",
       "      <th>3</th>\n",
       "      <td>CDL02F</td>\n",
       "      <td>5/3/2020</td>\n",
       "      <td>Candelaria</td>\n",
       "      <td>River</td>\n",
       "      <td>CDL02</td>\n",
       "      <td>Bottom</td>\n",
       "      <td>Dry</td>\n",
       "      <td>2.23</td>\n",
       "      <td>24847.4</td>\n",
       "      <td>1.261</td>\n",
       "      <td>...</td>\n",
       "      <td>6.52</td>\n",
       "      <td>13.87</td>\n",
       "      <td>23074.0</td>\n",
       "      <td>13.44</td>\n",
       "      <td>29.024</td>\n",
       "      <td>18.61005</td>\n",
       "      <td>-91.24403</td>\n",
       "      <td>3667</td>\n",
       "      <td>3992</td>\n",
       "      <td>3992.0</td>\n",
       "    </tr>\n",
       "    <tr>\n",
       "      <th>4</th>\n",
       "      <td>CDL03S</td>\n",
       "      <td>5/3/2020</td>\n",
       "      <td>Candelaria</td>\n",
       "      <td>River</td>\n",
       "      <td>CDL03</td>\n",
       "      <td>Surface</td>\n",
       "      <td>Dry</td>\n",
       "      <td>0.58</td>\n",
       "      <td>46341.6</td>\n",
       "      <td>0.465</td>\n",
       "      <td>...</td>\n",
       "      <td>6.24</td>\n",
       "      <td>28.06</td>\n",
       "      <td>43670.8</td>\n",
       "      <td>3.60</td>\n",
       "      <td>28.202</td>\n",
       "      <td>18.63166</td>\n",
       "      <td>-91.29359</td>\n",
       "      <td>2928</td>\n",
       "      <td>3023</td>\n",
       "      <td>3023.0</td>\n",
       "    </tr>\n",
       "    <tr>\n",
       "      <th>...</th>\n",
       "      <td>...</td>\n",
       "      <td>...</td>\n",
       "      <td>...</td>\n",
       "      <td>...</td>\n",
       "      <td>...</td>\n",
       "      <td>...</td>\n",
       "      <td>...</td>\n",
       "      <td>...</td>\n",
       "      <td>...</td>\n",
       "      <td>...</td>\n",
       "      <td>...</td>\n",
       "      <td>...</td>\n",
       "      <td>...</td>\n",
       "      <td>...</td>\n",
       "      <td>...</td>\n",
       "      <td>...</td>\n",
       "      <td>...</td>\n",
       "      <td>...</td>\n",
       "      <td>...</td>\n",
       "      <td>...</td>\n",
       "      <td>...</td>\n",
       "    </tr>\n",
       "    <tr>\n",
       "      <th>101</th>\n",
       "      <td>PLZ07F</td>\n",
       "      <td>10/2/2021</td>\n",
       "      <td>Palizada</td>\n",
       "      <td>Coast</td>\n",
       "      <td>PLZ07</td>\n",
       "      <td>Bottom</td>\n",
       "      <td>Dry</td>\n",
       "      <td>8.37</td>\n",
       "      <td>36889.2</td>\n",
       "      <td>2.829</td>\n",
       "      <td>...</td>\n",
       "      <td>7.92</td>\n",
       "      <td>22.81</td>\n",
       "      <td>36170.8</td>\n",
       "      <td>56.65</td>\n",
       "      <td>26.040</td>\n",
       "      <td>18.58745</td>\n",
       "      <td>-91.83044</td>\n",
       "      <td>2715</td>\n",
       "      <td>2851</td>\n",
       "      <td>2851.0</td>\n",
       "    </tr>\n",
       "    <tr>\n",
       "      <th>102</th>\n",
       "      <td>PLZ08S</td>\n",
       "      <td>10/2/2021</td>\n",
       "      <td>Palizada</td>\n",
       "      <td>Coast</td>\n",
       "      <td>PLZ08</td>\n",
       "      <td>Surface</td>\n",
       "      <td>Dry</td>\n",
       "      <td>2.73</td>\n",
       "      <td>37133.6</td>\n",
       "      <td>0.363</td>\n",
       "      <td>...</td>\n",
       "      <td>8.39</td>\n",
       "      <td>22.57</td>\n",
       "      <td>35851.5</td>\n",
       "      <td>5.90</td>\n",
       "      <td>26.872</td>\n",
       "      <td>18.64028</td>\n",
       "      <td>-91.86907</td>\n",
       "      <td>2638</td>\n",
       "      <td>2837</td>\n",
       "      <td>2837.0</td>\n",
       "    </tr>\n",
       "    <tr>\n",
       "      <th>103</th>\n",
       "      <td>PLZ08F</td>\n",
       "      <td>10/2/2021</td>\n",
       "      <td>Palizada</td>\n",
       "      <td>Coast</td>\n",
       "      <td>PLZ08</td>\n",
       "      <td>Bottom</td>\n",
       "      <td>Dry</td>\n",
       "      <td>9.27</td>\n",
       "      <td>39340.8</td>\n",
       "      <td>5.185</td>\n",
       "      <td>...</td>\n",
       "      <td>7.89</td>\n",
       "      <td>24.53</td>\n",
       "      <td>38622.9</td>\n",
       "      <td>173.00</td>\n",
       "      <td>25.973</td>\n",
       "      <td>18.63984</td>\n",
       "      <td>-91.86890</td>\n",
       "      <td>2608</td>\n",
       "      <td>2857</td>\n",
       "      <td>2857.0</td>\n",
       "    </tr>\n",
       "    <tr>\n",
       "      <th>104</th>\n",
       "      <td>PLZ09S</td>\n",
       "      <td>10/2/2021</td>\n",
       "      <td>Palizada</td>\n",
       "      <td>Coast</td>\n",
       "      <td>PLZ09</td>\n",
       "      <td>Surface</td>\n",
       "      <td>Dry</td>\n",
       "      <td>3.71</td>\n",
       "      <td>37034.5</td>\n",
       "      <td>0.384</td>\n",
       "      <td>...</td>\n",
       "      <td>8.62</td>\n",
       "      <td>22.57</td>\n",
       "      <td>35851.9</td>\n",
       "      <td>9.18</td>\n",
       "      <td>26.727</td>\n",
       "      <td>18.66676</td>\n",
       "      <td>-91.90047</td>\n",
       "      <td>2605</td>\n",
       "      <td>2804</td>\n",
       "      <td>2804.0</td>\n",
       "    </tr>\n",
       "    <tr>\n",
       "      <th>105</th>\n",
       "      <td>PLZ09F</td>\n",
       "      <td>10/2/2021</td>\n",
       "      <td>Palizada</td>\n",
       "      <td>Coast</td>\n",
       "      <td>PLZ09</td>\n",
       "      <td>Bottom</td>\n",
       "      <td>Dry</td>\n",
       "      <td>17.81</td>\n",
       "      <td>43416.8</td>\n",
       "      <td>4.069</td>\n",
       "      <td>...</td>\n",
       "      <td>5.06</td>\n",
       "      <td>27.52</td>\n",
       "      <td>42833.8</td>\n",
       "      <td>890.51</td>\n",
       "      <td>25.713</td>\n",
       "      <td>18.66452</td>\n",
       "      <td>-91.90119</td>\n",
       "      <td>2542</td>\n",
       "      <td>2780</td>\n",
       "      <td>2780.0</td>\n",
       "    </tr>\n",
       "  </tbody>\n",
       "</table>\n",
       "<p>106 rows × 21 columns</p>\n",
       "</div>"
      ],
      "text/plain": [
       "     sample       date     estuary   area station layer_depth season  \\\n",
       "0    CDL01S   5/3/2020  Candelaria  River   CDL01     Surface    Dry   \n",
       "1    CDL01F   5/3/2020  Candelaria  River   CDL01      Bottom    Dry   \n",
       "2    CDL02S   5/3/2020  Candelaria  River   CDL02     Surface    Dry   \n",
       "3    CDL02F   5/3/2020  Candelaria  River   CDL02      Bottom    Dry   \n",
       "4    CDL03S   5/3/2020  Candelaria  River   CDL03     Surface    Dry   \n",
       "..      ...        ...         ...    ...     ...         ...    ...   \n",
       "101  PLZ07F  10/2/2021    Palizada  Coast   PLZ07      Bottom    Dry   \n",
       "102  PLZ08S  10/2/2021    Palizada  Coast   PLZ08     Surface    Dry   \n",
       "103  PLZ08F  10/2/2021    Palizada  Coast   PLZ08      Bottom    Dry   \n",
       "104  PLZ09S  10/2/2021    Palizada  Coast   PLZ09     Surface    Dry   \n",
       "105  PLZ09F  10/2/2021    Palizada  Coast   PLZ09      Bottom    Dry   \n",
       "\n",
       "     chlorophy_microg_l  cond_microsiemens_cm  depth_m  ...  do_mg_l  sal_psu  \\\n",
       "0                  0.36                7015.4    0.464  ...     7.12     3.56   \n",
       "1                  4.19               29886.1    7.792  ...     4.90    16.97   \n",
       "2                  0.92               16691.1    0.453  ...     6.99     8.94   \n",
       "3                  2.23               24847.4    1.261  ...     6.52    13.87   \n",
       "4                  0.58               46341.6    0.465  ...     6.24    28.06   \n",
       "..                  ...                   ...      ...  ...      ...      ...   \n",
       "101                8.37               36889.2    2.829  ...     7.92    22.81   \n",
       "102                2.73               37133.6    0.363  ...     8.39    22.57   \n",
       "103                9.27               39340.8    5.185  ...     7.89    24.53   \n",
       "104                3.71               37034.5    0.384  ...     8.62    22.57   \n",
       "105               17.81               43416.8    4.069  ...     5.06    27.52   \n",
       "\n",
       "     sp_cond_microsiemens_cm  turbidity_fnu  temp_c  latitude  longitude  \\\n",
       "0                     6547.7           1.47  28.740  18.55736  -91.25012   \n",
       "1                    27751.2          95.33  29.028  18.55722  -91.24990   \n",
       "2                    15429.1           5.50  29.283  18.61007  -91.24410   \n",
       "3                    23074.0          13.44  29.024  18.61005  -91.24403   \n",
       "4                    43670.8           3.60  28.202  18.63166  -91.29359   \n",
       "..                       ...            ...     ...       ...        ...   \n",
       "101                  36170.8          56.65  26.040  18.58745  -91.83044   \n",
       "102                  35851.5           5.90  26.872  18.64028  -91.86907   \n",
       "103                  38622.9         173.00  25.973  18.63984  -91.86890   \n",
       "104                  35851.9           9.18  26.727  18.66676  -91.90047   \n",
       "105                  42833.8         890.51  25.713  18.66452  -91.90119   \n",
       "\n",
       "     dic_micromol_kg  ta_micromol_kg  dummy_data  \n",
       "0               3915            3863      3685.0  \n",
       "1               3698            3685         NaN  \n",
       "2               3724            3708      3708.0  \n",
       "3               3667            3992      3992.0  \n",
       "4               2928            3023      3023.0  \n",
       "..               ...             ...         ...  \n",
       "101             2715            2851      2851.0  \n",
       "102             2638            2837      2837.0  \n",
       "103             2608            2857      2857.0  \n",
       "104             2605            2804      2804.0  \n",
       "105             2542            2780      2780.0  \n",
       "\n",
       "[106 rows x 21 columns]"
      ]
     },
     "execution_count": 31,
     "metadata": {},
     "output_type": "execute_result"
    }
   ],
   "source": [
    "#Utilizar el nombre de la FUNCIÓN PREdefinida y el nombre del archivo .csv\n",
    "import_csv(\"C:/Projects/modelab_jp/data/Terminos_lagoon_TA_DIC_2023_RawData.csv\")"
   ]
  },
  {
   "cell_type": "code",
   "execution_count": 32,
   "id": "2b01e49b",
   "metadata": {},
   "outputs": [],
   "source": [
    "#Definir una VARIABLE para poder manipular el DataFrame (no solo visualizarlo)\n",
    "terminos_df = import_csv(\"C:/Projects/modelab_jp/data/Terminos_lagoon_TA_DIC_2023_RawData.csv\")"
   ]
  },
  {
   "cell_type": "markdown",
   "id": "29913020",
   "metadata": {},
   "source": [
    "#### Exploring DataFrame (antes csv) with pandas"
   ]
  },
  {
   "cell_type": "code",
   "execution_count": 33,
   "id": "8291df87",
   "metadata": {},
   "outputs": [
    {
     "name": "stdout",
     "output_type": "stream",
     "text": [
      "Index(['sample', 'date', 'estuary', 'area', 'station', 'layer_depth', 'season',\n",
      "       'chlorophy_microg_l', 'cond_microsiemens_cm', 'depth_m',\n",
      "       'do_percent_sat', 'do_mg_l', 'sal_psu', 'sp_cond_microsiemens_cm',\n",
      "       'turbidity_fnu', 'temp_c', 'latitude', 'longitude', 'dic_micromol_kg',\n",
      "       'ta_micromol_kg', 'dummy_data'],\n",
      "      dtype='object')\n"
     ]
    }
   ],
   "source": [
    "#Explorar el DataFrame\n",
    "#Print variable names\n",
    "print(terminos_df.columns)"
   ]
  },
  {
   "cell_type": "code",
   "execution_count": 34,
   "id": "4a76c322",
   "metadata": {},
   "outputs": [
    {
     "name": "stdout",
     "output_type": "stream",
     "text": [
      "(106, 21)\n"
     ]
    }
   ],
   "source": [
    "print(terminos_df.shape) #Muestra el número de filas y columnas"
   ]
  },
  {
   "cell_type": "code",
   "execution_count": 35,
   "id": "87d793e1",
   "metadata": {},
   "outputs": [
    {
     "name": "stdout",
     "output_type": "stream",
     "text": [
      "   sample      date     estuary   area station layer_depth season  \\\n",
      "0  CDL01S  5/3/2020  Candelaria  River   CDL01     Surface    Dry   \n",
      "1  CDL01F  5/3/2020  Candelaria  River   CDL01      Bottom    Dry   \n",
      "2  CDL02S  5/3/2020  Candelaria  River   CDL02     Surface    Dry   \n",
      "3  CDL02F  5/3/2020  Candelaria  River   CDL02      Bottom    Dry   \n",
      "4  CDL03S  5/3/2020  Candelaria  River   CDL03     Surface    Dry   \n",
      "\n",
      "   chlorophy_microg_l  cond_microsiemens_cm  depth_m  ...  do_mg_l  sal_psu  \\\n",
      "0                0.36                7015.4    0.464  ...     7.12     3.56   \n",
      "1                4.19               29886.1    7.792  ...     4.90    16.97   \n",
      "2                0.92               16691.1    0.453  ...     6.99     8.94   \n",
      "3                2.23               24847.4    1.261  ...     6.52    13.87   \n",
      "4                0.58               46341.6    0.465  ...     6.24    28.06   \n",
      "\n",
      "   sp_cond_microsiemens_cm  turbidity_fnu  temp_c  latitude  longitude  \\\n",
      "0                   6547.7           1.47  28.740  18.55736  -91.25012   \n",
      "1                  27751.2          95.33  29.028  18.55722  -91.24990   \n",
      "2                  15429.1           5.50  29.283  18.61007  -91.24410   \n",
      "3                  23074.0          13.44  29.024  18.61005  -91.24403   \n",
      "4                  43670.8           3.60  28.202  18.63166  -91.29359   \n",
      "\n",
      "   dic_micromol_kg  ta_micromol_kg  dummy_data  \n",
      "0             3915            3863      3685.0  \n",
      "1             3698            3685         NaN  \n",
      "2             3724            3708      3708.0  \n",
      "3             3667            3992      3992.0  \n",
      "4             2928            3023      3023.0  \n",
      "\n",
      "[5 rows x 21 columns]\n"
     ]
    }
   ],
   "source": [
    "print(terminos_df.head())  #Muestra las primeras 5 filas del DataFrame por default. Puedes especificar otro número como parámatro/argumento"
   ]
  },
  {
   "cell_type": "code",
   "execution_count": 36,
   "id": "f1633b07",
   "metadata": {},
   "outputs": [
    {
     "name": "stdout",
     "output_type": "stream",
     "text": [
      "     sample       date   estuary   area station layer_depth season  \\\n",
      "103  PLZ08F  10/2/2021  Palizada  Coast   PLZ08      Bottom    Dry   \n",
      "104  PLZ09S  10/2/2021  Palizada  Coast   PLZ09     Surface    Dry   \n",
      "105  PLZ09F  10/2/2021  Palizada  Coast   PLZ09      Bottom    Dry   \n",
      "\n",
      "     chlorophy_microg_l  cond_microsiemens_cm  depth_m  ...  do_mg_l  sal_psu  \\\n",
      "103                9.27               39340.8    5.185  ...     7.89    24.53   \n",
      "104                3.71               37034.5    0.384  ...     8.62    22.57   \n",
      "105               17.81               43416.8    4.069  ...     5.06    27.52   \n",
      "\n",
      "     sp_cond_microsiemens_cm  turbidity_fnu  temp_c  latitude  longitude  \\\n",
      "103                  38622.9         173.00  25.973  18.63984  -91.86890   \n",
      "104                  35851.9           9.18  26.727  18.66676  -91.90047   \n",
      "105                  42833.8         890.51  25.713  18.66452  -91.90119   \n",
      "\n",
      "     dic_micromol_kg  ta_micromol_kg  dummy_data  \n",
      "103             2608            2857      2857.0  \n",
      "104             2605            2804      2804.0  \n",
      "105             2542            2780      2780.0  \n",
      "\n",
      "[3 rows x 21 columns]\n"
     ]
    }
   ],
   "source": [
    "print(terminos_df.tail(3))  #Muestra las últimas 5 filas"
   ]
  },
  {
   "cell_type": "code",
   "execution_count": 37,
   "id": "de36002f",
   "metadata": {},
   "outputs": [
    {
     "name": "stdout",
     "output_type": "stream",
     "text": [
      "<class 'pandas.core.frame.DataFrame'>\n",
      "RangeIndex: 106 entries, 0 to 105\n",
      "Data columns (total 21 columns):\n",
      " #   Column                   Non-Null Count  Dtype  \n",
      "---  ------                   --------------  -----  \n",
      " 0   sample                   106 non-null    object \n",
      " 1   date                     106 non-null    object \n",
      " 2   estuary                  106 non-null    object \n",
      " 3   area                     106 non-null    object \n",
      " 4   station                  106 non-null    object \n",
      " 5   layer_depth              106 non-null    object \n",
      " 6   season                   106 non-null    object \n",
      " 7   chlorophy_microg_l       106 non-null    float64\n",
      " 8   cond_microsiemens_cm     106 non-null    float64\n",
      " 9   depth_m                  106 non-null    float64\n",
      " 10  do_percent_sat           106 non-null    float64\n",
      " 11  do_mg_l                  106 non-null    float64\n",
      " 12  sal_psu                  106 non-null    float64\n",
      " 13  sp_cond_microsiemens_cm  106 non-null    float64\n",
      " 14  turbidity_fnu            106 non-null    float64\n",
      " 15  temp_c                   106 non-null    float64\n",
      " 16  latitude                 106 non-null    float64\n",
      " 17  longitude                106 non-null    float64\n",
      " 18  dic_micromol_kg          106 non-null    int64  \n",
      " 19  ta_micromol_kg           106 non-null    int64  \n",
      " 20  dummy_data               99 non-null     float64\n",
      "dtypes: float64(12), int64(2), object(7)\n",
      "memory usage: 17.5+ KB\n",
      "None\n"
     ]
    }
   ],
   "source": [
    "print(terminos_df.info())  #Muestra información general"
   ]
  },
  {
   "cell_type": "code",
   "execution_count": 38,
   "id": "daac1956",
   "metadata": {},
   "outputs": [
    {
     "name": "stdout",
     "output_type": "stream",
     "text": [
      "       chlorophy_microg_l  cond_microsiemens_cm     depth_m  do_percent_sat  \\\n",
      "count          106.000000            106.000000  106.000000      106.000000   \n",
      "mean             6.545472          27895.183962    1.830160       89.515094   \n",
      "std             14.941262          20931.232513    2.038739       29.772291   \n",
      "min              0.360000             13.800000    0.105000        1.700000   \n",
      "25%              2.555000           1778.025000    0.428750       84.575000   \n",
      "50%              3.705000          33202.600000    0.638500       97.100000   \n",
      "75%              5.925000          47046.650000    2.883250      105.300000   \n",
      "max            150.900000          59988.600000    8.558000      174.100000   \n",
      "\n",
      "          do_mg_l     sal_psu  sp_cond_microsiemens_cm  turbidity_fnu  \\\n",
      "count  106.000000  106.000000               106.000000     106.000000   \n",
      "mean     6.474340   17.331981             27126.980189     100.429623   \n",
      "std      2.104254   13.578980             20527.530804     290.290113   \n",
      "min      0.120000    0.000000                13.700000       0.880000   \n",
      "25%      5.632500    0.857500              1706.875000       5.950000   \n",
      "50%      6.940000   19.760000             31803.250000      19.090000   \n",
      "75%      7.722500   30.297500             46668.975000      54.762500   \n",
      "max     11.660000   38.780000             58105.000000    2422.930000   \n",
      "\n",
      "           temp_c    latitude   longitude  dic_micromol_kg  ta_micromol_kg  \\\n",
      "count  106.000000  106.000000  106.000000       106.000000      106.000000   \n",
      "mean    26.758755   18.615912  -91.602783      2797.981132     2912.915094   \n",
      "std      0.917242    0.112832    0.240359       499.852416      472.694346   \n",
      "min     24.470000   18.424030  -91.902180      2152.000000     2357.000000   \n",
      "25%     26.062000   18.535825  -91.809810      2452.250000     2585.500000   \n",
      "50%     26.806000   18.610050  -91.786895      2646.500000     2823.000000   \n",
      "75%     27.153250   18.698798  -91.367565      2963.250000     3053.750000   \n",
      "max     29.283000   18.821780  -91.244000      4324.000000     4307.000000   \n",
      "\n",
      "        dummy_data  \n",
      "count    99.000000  \n",
      "mean   2902.888889  \n",
      "std     473.698989  \n",
      "min    2357.000000  \n",
      "25%    2561.500000  \n",
      "50%    2814.000000  \n",
      "75%    3029.000000  \n",
      "max    4307.000000  \n"
     ]
    }
   ],
   "source": [
    "print(terminos_df.describe())  #Muestra estadísticas descriptivas básicas"
   ]
  },
  {
   "cell_type": "markdown",
   "id": "cea24554",
   "metadata": {},
   "source": [
    "\n",
    "\n",
    "*Si estás trabajando en un archivo .ipynb (Jupyter Notebook), no necesitas usar print(), basta con poner el comando en una celda. Obtienes una mejor interfaz en la representación de la tabla.*"
   ]
  },
  {
   "cell_type": "code",
   "execution_count": 39,
   "id": "0fba9206",
   "metadata": {},
   "outputs": [
    {
     "data": {
      "application/vnd.microsoft.datawrangler.viewer.v0+json": {
       "columns": [
        {
         "name": "index",
         "rawType": "object",
         "type": "string"
        },
        {
         "name": "chlorophy_microg_l",
         "rawType": "float64",
         "type": "float"
        },
        {
         "name": "cond_microsiemens_cm",
         "rawType": "float64",
         "type": "float"
        },
        {
         "name": "depth_m",
         "rawType": "float64",
         "type": "float"
        },
        {
         "name": "do_percent_sat",
         "rawType": "float64",
         "type": "float"
        },
        {
         "name": "do_mg_l",
         "rawType": "float64",
         "type": "float"
        },
        {
         "name": "sal_psu",
         "rawType": "float64",
         "type": "float"
        },
        {
         "name": "sp_cond_microsiemens_cm",
         "rawType": "float64",
         "type": "float"
        },
        {
         "name": "turbidity_fnu",
         "rawType": "float64",
         "type": "float"
        },
        {
         "name": "temp_c",
         "rawType": "float64",
         "type": "float"
        },
        {
         "name": "latitude",
         "rawType": "float64",
         "type": "float"
        },
        {
         "name": "longitude",
         "rawType": "float64",
         "type": "float"
        },
        {
         "name": "dic_micromol_kg",
         "rawType": "float64",
         "type": "float"
        },
        {
         "name": "ta_micromol_kg",
         "rawType": "float64",
         "type": "float"
        },
        {
         "name": "dummy_data",
         "rawType": "float64",
         "type": "float"
        }
       ],
       "ref": "bdbeddc3-80fa-4c36-b54d-26d48c1d2b1c",
       "rows": [
        [
         "count",
         "106.0",
         "106.0",
         "106.0",
         "106.0",
         "106.0",
         "106.0",
         "106.0",
         "106.0",
         "106.0",
         "106.0",
         "106.0",
         "106.0",
         "106.0",
         "99.0"
        ],
        [
         "mean",
         "6.545471698113207",
         "27895.18396226415",
         "1.8301603773584907",
         "89.51509433962265",
         "6.4743396226415095",
         "17.33198113207547",
         "27126.980188679245",
         "100.42962264150943",
         "26.758754716981134",
         "18.61591179245283",
         "-91.60278311320755",
         "2797.9811320754716",
         "2912.9150943396226",
         "2902.8888888888887"
        ],
        [
         "std",
         "14.941262465437656",
         "20931.232513302475",
         "2.038738938596216",
         "29.772290704622304",
         "2.104253750255114",
         "13.578979793350166",
         "20527.53080432144",
         "290.2901128245083",
         "0.9172424700083736",
         "0.11283185313340571",
         "0.24035865585516458",
         "499.85241595479863",
         "472.6943463839231",
         "473.698989260378"
        ],
        [
         "min",
         "0.36",
         "13.8",
         "0.105",
         "1.7",
         "0.12",
         "0.0",
         "13.7",
         "0.88",
         "24.47",
         "18.42403",
         "-91.90218",
         "2152.0",
         "2357.0",
         "2357.0"
        ],
        [
         "25%",
         "2.5549999999999997",
         "1778.0249999999999",
         "0.42874999999999996",
         "84.575",
         "5.6325",
         "0.8574999999999999",
         "1706.875",
         "5.95",
         "26.061999999999998",
         "18.535825000000003",
         "-91.80981",
         "2452.25",
         "2585.5",
         "2561.5"
        ],
        [
         "50%",
         "3.705",
         "33202.600000000006",
         "0.6385000000000001",
         "97.1",
         "6.94",
         "19.759999999999998",
         "31803.25",
         "19.09",
         "26.805999999999997",
         "18.61005",
         "-91.786895",
         "2646.5",
         "2823.0",
         "2814.0"
        ],
        [
         "75%",
         "5.925000000000001",
         "47046.65",
         "2.88325",
         "105.30000000000001",
         "7.7225",
         "30.2975",
         "46668.975",
         "54.7625",
         "27.15325",
         "18.6987975",
         "-91.367565",
         "2963.25",
         "3053.75",
         "3029.0"
        ],
        [
         "max",
         "150.9",
         "59988.6",
         "8.558",
         "174.1",
         "11.66",
         "38.78",
         "58105.0",
         "2422.93",
         "29.283",
         "18.82178",
         "-91.244",
         "4324.0",
         "4307.0",
         "4307.0"
        ]
       ],
       "shape": {
        "columns": 14,
        "rows": 8
       }
      },
      "text/html": [
       "<div>\n",
       "<style scoped>\n",
       "    .dataframe tbody tr th:only-of-type {\n",
       "        vertical-align: middle;\n",
       "    }\n",
       "\n",
       "    .dataframe tbody tr th {\n",
       "        vertical-align: top;\n",
       "    }\n",
       "\n",
       "    .dataframe thead th {\n",
       "        text-align: right;\n",
       "    }\n",
       "</style>\n",
       "<table border=\"1\" class=\"dataframe\">\n",
       "  <thead>\n",
       "    <tr style=\"text-align: right;\">\n",
       "      <th></th>\n",
       "      <th>chlorophy_microg_l</th>\n",
       "      <th>cond_microsiemens_cm</th>\n",
       "      <th>depth_m</th>\n",
       "      <th>do_percent_sat</th>\n",
       "      <th>do_mg_l</th>\n",
       "      <th>sal_psu</th>\n",
       "      <th>sp_cond_microsiemens_cm</th>\n",
       "      <th>turbidity_fnu</th>\n",
       "      <th>temp_c</th>\n",
       "      <th>latitude</th>\n",
       "      <th>longitude</th>\n",
       "      <th>dic_micromol_kg</th>\n",
       "      <th>ta_micromol_kg</th>\n",
       "      <th>dummy_data</th>\n",
       "    </tr>\n",
       "  </thead>\n",
       "  <tbody>\n",
       "    <tr>\n",
       "      <th>count</th>\n",
       "      <td>106.000000</td>\n",
       "      <td>106.000000</td>\n",
       "      <td>106.000000</td>\n",
       "      <td>106.000000</td>\n",
       "      <td>106.000000</td>\n",
       "      <td>106.000000</td>\n",
       "      <td>106.000000</td>\n",
       "      <td>106.000000</td>\n",
       "      <td>106.000000</td>\n",
       "      <td>106.000000</td>\n",
       "      <td>106.000000</td>\n",
       "      <td>106.000000</td>\n",
       "      <td>106.000000</td>\n",
       "      <td>99.000000</td>\n",
       "    </tr>\n",
       "    <tr>\n",
       "      <th>mean</th>\n",
       "      <td>6.545472</td>\n",
       "      <td>27895.183962</td>\n",
       "      <td>1.830160</td>\n",
       "      <td>89.515094</td>\n",
       "      <td>6.474340</td>\n",
       "      <td>17.331981</td>\n",
       "      <td>27126.980189</td>\n",
       "      <td>100.429623</td>\n",
       "      <td>26.758755</td>\n",
       "      <td>18.615912</td>\n",
       "      <td>-91.602783</td>\n",
       "      <td>2797.981132</td>\n",
       "      <td>2912.915094</td>\n",
       "      <td>2902.888889</td>\n",
       "    </tr>\n",
       "    <tr>\n",
       "      <th>std</th>\n",
       "      <td>14.941262</td>\n",
       "      <td>20931.232513</td>\n",
       "      <td>2.038739</td>\n",
       "      <td>29.772291</td>\n",
       "      <td>2.104254</td>\n",
       "      <td>13.578980</td>\n",
       "      <td>20527.530804</td>\n",
       "      <td>290.290113</td>\n",
       "      <td>0.917242</td>\n",
       "      <td>0.112832</td>\n",
       "      <td>0.240359</td>\n",
       "      <td>499.852416</td>\n",
       "      <td>472.694346</td>\n",
       "      <td>473.698989</td>\n",
       "    </tr>\n",
       "    <tr>\n",
       "      <th>min</th>\n",
       "      <td>0.360000</td>\n",
       "      <td>13.800000</td>\n",
       "      <td>0.105000</td>\n",
       "      <td>1.700000</td>\n",
       "      <td>0.120000</td>\n",
       "      <td>0.000000</td>\n",
       "      <td>13.700000</td>\n",
       "      <td>0.880000</td>\n",
       "      <td>24.470000</td>\n",
       "      <td>18.424030</td>\n",
       "      <td>-91.902180</td>\n",
       "      <td>2152.000000</td>\n",
       "      <td>2357.000000</td>\n",
       "      <td>2357.000000</td>\n",
       "    </tr>\n",
       "    <tr>\n",
       "      <th>25%</th>\n",
       "      <td>2.555000</td>\n",
       "      <td>1778.025000</td>\n",
       "      <td>0.428750</td>\n",
       "      <td>84.575000</td>\n",
       "      <td>5.632500</td>\n",
       "      <td>0.857500</td>\n",
       "      <td>1706.875000</td>\n",
       "      <td>5.950000</td>\n",
       "      <td>26.062000</td>\n",
       "      <td>18.535825</td>\n",
       "      <td>-91.809810</td>\n",
       "      <td>2452.250000</td>\n",
       "      <td>2585.500000</td>\n",
       "      <td>2561.500000</td>\n",
       "    </tr>\n",
       "    <tr>\n",
       "      <th>50%</th>\n",
       "      <td>3.705000</td>\n",
       "      <td>33202.600000</td>\n",
       "      <td>0.638500</td>\n",
       "      <td>97.100000</td>\n",
       "      <td>6.940000</td>\n",
       "      <td>19.760000</td>\n",
       "      <td>31803.250000</td>\n",
       "      <td>19.090000</td>\n",
       "      <td>26.806000</td>\n",
       "      <td>18.610050</td>\n",
       "      <td>-91.786895</td>\n",
       "      <td>2646.500000</td>\n",
       "      <td>2823.000000</td>\n",
       "      <td>2814.000000</td>\n",
       "    </tr>\n",
       "    <tr>\n",
       "      <th>75%</th>\n",
       "      <td>5.925000</td>\n",
       "      <td>47046.650000</td>\n",
       "      <td>2.883250</td>\n",
       "      <td>105.300000</td>\n",
       "      <td>7.722500</td>\n",
       "      <td>30.297500</td>\n",
       "      <td>46668.975000</td>\n",
       "      <td>54.762500</td>\n",
       "      <td>27.153250</td>\n",
       "      <td>18.698798</td>\n",
       "      <td>-91.367565</td>\n",
       "      <td>2963.250000</td>\n",
       "      <td>3053.750000</td>\n",
       "      <td>3029.000000</td>\n",
       "    </tr>\n",
       "    <tr>\n",
       "      <th>max</th>\n",
       "      <td>150.900000</td>\n",
       "      <td>59988.600000</td>\n",
       "      <td>8.558000</td>\n",
       "      <td>174.100000</td>\n",
       "      <td>11.660000</td>\n",
       "      <td>38.780000</td>\n",
       "      <td>58105.000000</td>\n",
       "      <td>2422.930000</td>\n",
       "      <td>29.283000</td>\n",
       "      <td>18.821780</td>\n",
       "      <td>-91.244000</td>\n",
       "      <td>4324.000000</td>\n",
       "      <td>4307.000000</td>\n",
       "      <td>4307.000000</td>\n",
       "    </tr>\n",
       "  </tbody>\n",
       "</table>\n",
       "</div>"
      ],
      "text/plain": [
       "       chlorophy_microg_l  cond_microsiemens_cm     depth_m  do_percent_sat  \\\n",
       "count          106.000000            106.000000  106.000000      106.000000   \n",
       "mean             6.545472          27895.183962    1.830160       89.515094   \n",
       "std             14.941262          20931.232513    2.038739       29.772291   \n",
       "min              0.360000             13.800000    0.105000        1.700000   \n",
       "25%              2.555000           1778.025000    0.428750       84.575000   \n",
       "50%              3.705000          33202.600000    0.638500       97.100000   \n",
       "75%              5.925000          47046.650000    2.883250      105.300000   \n",
       "max            150.900000          59988.600000    8.558000      174.100000   \n",
       "\n",
       "          do_mg_l     sal_psu  sp_cond_microsiemens_cm  turbidity_fnu  \\\n",
       "count  106.000000  106.000000               106.000000     106.000000   \n",
       "mean     6.474340   17.331981             27126.980189     100.429623   \n",
       "std      2.104254   13.578980             20527.530804     290.290113   \n",
       "min      0.120000    0.000000                13.700000       0.880000   \n",
       "25%      5.632500    0.857500              1706.875000       5.950000   \n",
       "50%      6.940000   19.760000             31803.250000      19.090000   \n",
       "75%      7.722500   30.297500             46668.975000      54.762500   \n",
       "max     11.660000   38.780000             58105.000000    2422.930000   \n",
       "\n",
       "           temp_c    latitude   longitude  dic_micromol_kg  ta_micromol_kg  \\\n",
       "count  106.000000  106.000000  106.000000       106.000000      106.000000   \n",
       "mean    26.758755   18.615912  -91.602783      2797.981132     2912.915094   \n",
       "std      0.917242    0.112832    0.240359       499.852416      472.694346   \n",
       "min     24.470000   18.424030  -91.902180      2152.000000     2357.000000   \n",
       "25%     26.062000   18.535825  -91.809810      2452.250000     2585.500000   \n",
       "50%     26.806000   18.610050  -91.786895      2646.500000     2823.000000   \n",
       "75%     27.153250   18.698798  -91.367565      2963.250000     3053.750000   \n",
       "max     29.283000   18.821780  -91.244000      4324.000000     4307.000000   \n",
       "\n",
       "        dummy_data  \n",
       "count    99.000000  \n",
       "mean   2902.888889  \n",
       "std     473.698989  \n",
       "min    2357.000000  \n",
       "25%    2561.500000  \n",
       "50%    2814.000000  \n",
       "75%    3029.000000  \n",
       "max    4307.000000  "
      ]
     },
     "execution_count": 39,
     "metadata": {},
     "output_type": "execute_result"
    }
   ],
   "source": [
    "terminos_df.describe()"
   ]
  },
  {
   "cell_type": "markdown",
   "id": "f325b920",
   "metadata": {},
   "source": [
    " # 04 Estadística descriptiva de una DataFrame"
   ]
  },
  {
   "cell_type": "markdown",
   "id": "333cbe0f",
   "metadata": {},
   "source": [
    "## Exploring DataFrame"
   ]
  },
  {
   "cell_type": "code",
   "execution_count": 40,
   "id": "59e5a946",
   "metadata": {},
   "outputs": [
    {
     "data": {
      "text/plain": [
       "(106, 21)"
      ]
     },
     "execution_count": 40,
     "metadata": {},
     "output_type": "execute_result"
    }
   ],
   "source": [
    "# Print the number of rows and columns in the DataFrame\n",
    "terminos_df.shape"
   ]
  },
  {
   "cell_type": "code",
   "execution_count": 41,
   "id": "db0049ce",
   "metadata": {},
   "outputs": [
    {
     "data": {
      "application/vnd.microsoft.datawrangler.viewer.v0+json": {
       "columns": [
        {
         "name": "index",
         "rawType": "int64",
         "type": "integer"
        },
        {
         "name": "sample",
         "rawType": "object",
         "type": "string"
        },
        {
         "name": "date",
         "rawType": "object",
         "type": "string"
        },
        {
         "name": "estuary",
         "rawType": "object",
         "type": "string"
        },
        {
         "name": "area",
         "rawType": "object",
         "type": "string"
        },
        {
         "name": "station",
         "rawType": "object",
         "type": "string"
        },
        {
         "name": "layer_depth",
         "rawType": "object",
         "type": "string"
        },
        {
         "name": "season",
         "rawType": "object",
         "type": "string"
        },
        {
         "name": "chlorophy_microg_l",
         "rawType": "float64",
         "type": "float"
        },
        {
         "name": "cond_microsiemens_cm",
         "rawType": "float64",
         "type": "float"
        },
        {
         "name": "depth_m",
         "rawType": "float64",
         "type": "float"
        },
        {
         "name": "do_percent_sat",
         "rawType": "float64",
         "type": "float"
        },
        {
         "name": "do_mg_l",
         "rawType": "float64",
         "type": "float"
        },
        {
         "name": "sal_psu",
         "rawType": "float64",
         "type": "float"
        },
        {
         "name": "sp_cond_microsiemens_cm",
         "rawType": "float64",
         "type": "float"
        },
        {
         "name": "turbidity_fnu",
         "rawType": "float64",
         "type": "float"
        },
        {
         "name": "temp_c",
         "rawType": "float64",
         "type": "float"
        },
        {
         "name": "latitude",
         "rawType": "float64",
         "type": "float"
        },
        {
         "name": "longitude",
         "rawType": "float64",
         "type": "float"
        },
        {
         "name": "dic_micromol_kg",
         "rawType": "int64",
         "type": "integer"
        },
        {
         "name": "ta_micromol_kg",
         "rawType": "int64",
         "type": "integer"
        },
        {
         "name": "dummy_data",
         "rawType": "float64",
         "type": "float"
        }
       ],
       "ref": "31cd078c-ba38-4261-827f-4d6469726318",
       "rows": [
        [
         "0",
         "CDL01S",
         "5/3/2020",
         "Candelaria",
         "River",
         "CDL01",
         "Surface",
         "Dry",
         "0.36",
         "7015.4",
         "0.464",
         "93.9",
         "7.12",
         "3.56",
         "6547.7",
         "1.47",
         "28.74",
         "18.55736",
         "-91.25012",
         "3915",
         "3863",
         "3685.0"
        ],
        [
         "1",
         "CDL01F",
         "5/3/2020",
         "Candelaria",
         "River",
         "CDL01",
         "Bottom",
         "Dry",
         "4.19",
         "29886.1",
         "7.792",
         "70.1",
         "4.9",
         "16.97",
         "27751.2",
         "95.33",
         "29.028",
         "18.55722",
         "-91.2499",
         "3698",
         "3685",
         null
        ],
        [
         "2",
         "CDL02S",
         "5/3/2020",
         "Candelaria",
         "River",
         "CDL02",
         "Surface",
         "Dry",
         "0.92",
         "16691.1",
         "0.453",
         "95.9",
         "6.99",
         "8.94",
         "15429.1",
         "5.5",
         "29.283",
         "18.61007",
         "-91.2441",
         "3724",
         "3708",
         "3708.0"
        ],
        [
         "3",
         "CDL02F",
         "5/3/2020",
         "Candelaria",
         "River",
         "CDL02",
         "Bottom",
         "Dry",
         "2.23",
         "24847.4",
         "1.261",
         "91.5",
         "6.52",
         "13.87",
         "23074.0",
         "13.44",
         "29.024",
         "18.61005",
         "-91.24403",
         "3667",
         "3992",
         "3992.0"
        ],
        [
         "4",
         "CDL03S",
         "5/3/2020",
         "Candelaria",
         "River",
         "CDL03",
         "Surface",
         "Dry",
         "0.58",
         "46341.6",
         "0.465",
         "93.4",
         "6.24",
         "28.06",
         "43670.8",
         "3.6",
         "28.202",
         "18.63166",
         "-91.29359",
         "2928",
         "3023",
         "3023.0"
        ]
       ],
       "shape": {
        "columns": 21,
        "rows": 5
       }
      },
      "text/html": [
       "<div>\n",
       "<style scoped>\n",
       "    .dataframe tbody tr th:only-of-type {\n",
       "        vertical-align: middle;\n",
       "    }\n",
       "\n",
       "    .dataframe tbody tr th {\n",
       "        vertical-align: top;\n",
       "    }\n",
       "\n",
       "    .dataframe thead th {\n",
       "        text-align: right;\n",
       "    }\n",
       "</style>\n",
       "<table border=\"1\" class=\"dataframe\">\n",
       "  <thead>\n",
       "    <tr style=\"text-align: right;\">\n",
       "      <th></th>\n",
       "      <th>sample</th>\n",
       "      <th>date</th>\n",
       "      <th>estuary</th>\n",
       "      <th>area</th>\n",
       "      <th>station</th>\n",
       "      <th>layer_depth</th>\n",
       "      <th>season</th>\n",
       "      <th>chlorophy_microg_l</th>\n",
       "      <th>cond_microsiemens_cm</th>\n",
       "      <th>depth_m</th>\n",
       "      <th>...</th>\n",
       "      <th>do_mg_l</th>\n",
       "      <th>sal_psu</th>\n",
       "      <th>sp_cond_microsiemens_cm</th>\n",
       "      <th>turbidity_fnu</th>\n",
       "      <th>temp_c</th>\n",
       "      <th>latitude</th>\n",
       "      <th>longitude</th>\n",
       "      <th>dic_micromol_kg</th>\n",
       "      <th>ta_micromol_kg</th>\n",
       "      <th>dummy_data</th>\n",
       "    </tr>\n",
       "  </thead>\n",
       "  <tbody>\n",
       "    <tr>\n",
       "      <th>0</th>\n",
       "      <td>CDL01S</td>\n",
       "      <td>5/3/2020</td>\n",
       "      <td>Candelaria</td>\n",
       "      <td>River</td>\n",
       "      <td>CDL01</td>\n",
       "      <td>Surface</td>\n",
       "      <td>Dry</td>\n",
       "      <td>0.36</td>\n",
       "      <td>7015.4</td>\n",
       "      <td>0.464</td>\n",
       "      <td>...</td>\n",
       "      <td>7.12</td>\n",
       "      <td>3.56</td>\n",
       "      <td>6547.7</td>\n",
       "      <td>1.47</td>\n",
       "      <td>28.740</td>\n",
       "      <td>18.55736</td>\n",
       "      <td>-91.25012</td>\n",
       "      <td>3915</td>\n",
       "      <td>3863</td>\n",
       "      <td>3685.0</td>\n",
       "    </tr>\n",
       "    <tr>\n",
       "      <th>1</th>\n",
       "      <td>CDL01F</td>\n",
       "      <td>5/3/2020</td>\n",
       "      <td>Candelaria</td>\n",
       "      <td>River</td>\n",
       "      <td>CDL01</td>\n",
       "      <td>Bottom</td>\n",
       "      <td>Dry</td>\n",
       "      <td>4.19</td>\n",
       "      <td>29886.1</td>\n",
       "      <td>7.792</td>\n",
       "      <td>...</td>\n",
       "      <td>4.90</td>\n",
       "      <td>16.97</td>\n",
       "      <td>27751.2</td>\n",
       "      <td>95.33</td>\n",
       "      <td>29.028</td>\n",
       "      <td>18.55722</td>\n",
       "      <td>-91.24990</td>\n",
       "      <td>3698</td>\n",
       "      <td>3685</td>\n",
       "      <td>NaN</td>\n",
       "    </tr>\n",
       "    <tr>\n",
       "      <th>2</th>\n",
       "      <td>CDL02S</td>\n",
       "      <td>5/3/2020</td>\n",
       "      <td>Candelaria</td>\n",
       "      <td>River</td>\n",
       "      <td>CDL02</td>\n",
       "      <td>Surface</td>\n",
       "      <td>Dry</td>\n",
       "      <td>0.92</td>\n",
       "      <td>16691.1</td>\n",
       "      <td>0.453</td>\n",
       "      <td>...</td>\n",
       "      <td>6.99</td>\n",
       "      <td>8.94</td>\n",
       "      <td>15429.1</td>\n",
       "      <td>5.50</td>\n",
       "      <td>29.283</td>\n",
       "      <td>18.61007</td>\n",
       "      <td>-91.24410</td>\n",
       "      <td>3724</td>\n",
       "      <td>3708</td>\n",
       "      <td>3708.0</td>\n",
       "    </tr>\n",
       "    <tr>\n",
       "      <th>3</th>\n",
       "      <td>CDL02F</td>\n",
       "      <td>5/3/2020</td>\n",
       "      <td>Candelaria</td>\n",
       "      <td>River</td>\n",
       "      <td>CDL02</td>\n",
       "      <td>Bottom</td>\n",
       "      <td>Dry</td>\n",
       "      <td>2.23</td>\n",
       "      <td>24847.4</td>\n",
       "      <td>1.261</td>\n",
       "      <td>...</td>\n",
       "      <td>6.52</td>\n",
       "      <td>13.87</td>\n",
       "      <td>23074.0</td>\n",
       "      <td>13.44</td>\n",
       "      <td>29.024</td>\n",
       "      <td>18.61005</td>\n",
       "      <td>-91.24403</td>\n",
       "      <td>3667</td>\n",
       "      <td>3992</td>\n",
       "      <td>3992.0</td>\n",
       "    </tr>\n",
       "    <tr>\n",
       "      <th>4</th>\n",
       "      <td>CDL03S</td>\n",
       "      <td>5/3/2020</td>\n",
       "      <td>Candelaria</td>\n",
       "      <td>River</td>\n",
       "      <td>CDL03</td>\n",
       "      <td>Surface</td>\n",
       "      <td>Dry</td>\n",
       "      <td>0.58</td>\n",
       "      <td>46341.6</td>\n",
       "      <td>0.465</td>\n",
       "      <td>...</td>\n",
       "      <td>6.24</td>\n",
       "      <td>28.06</td>\n",
       "      <td>43670.8</td>\n",
       "      <td>3.60</td>\n",
       "      <td>28.202</td>\n",
       "      <td>18.63166</td>\n",
       "      <td>-91.29359</td>\n",
       "      <td>2928</td>\n",
       "      <td>3023</td>\n",
       "      <td>3023.0</td>\n",
       "    </tr>\n",
       "  </tbody>\n",
       "</table>\n",
       "<p>5 rows × 21 columns</p>\n",
       "</div>"
      ],
      "text/plain": [
       "   sample      date     estuary   area station layer_depth season  \\\n",
       "0  CDL01S  5/3/2020  Candelaria  River   CDL01     Surface    Dry   \n",
       "1  CDL01F  5/3/2020  Candelaria  River   CDL01      Bottom    Dry   \n",
       "2  CDL02S  5/3/2020  Candelaria  River   CDL02     Surface    Dry   \n",
       "3  CDL02F  5/3/2020  Candelaria  River   CDL02      Bottom    Dry   \n",
       "4  CDL03S  5/3/2020  Candelaria  River   CDL03     Surface    Dry   \n",
       "\n",
       "   chlorophy_microg_l  cond_microsiemens_cm  depth_m  ...  do_mg_l  sal_psu  \\\n",
       "0                0.36                7015.4    0.464  ...     7.12     3.56   \n",
       "1                4.19               29886.1    7.792  ...     4.90    16.97   \n",
       "2                0.92               16691.1    0.453  ...     6.99     8.94   \n",
       "3                2.23               24847.4    1.261  ...     6.52    13.87   \n",
       "4                0.58               46341.6    0.465  ...     6.24    28.06   \n",
       "\n",
       "   sp_cond_microsiemens_cm  turbidity_fnu  temp_c  latitude  longitude  \\\n",
       "0                   6547.7           1.47  28.740  18.55736  -91.25012   \n",
       "1                  27751.2          95.33  29.028  18.55722  -91.24990   \n",
       "2                  15429.1           5.50  29.283  18.61007  -91.24410   \n",
       "3                  23074.0          13.44  29.024  18.61005  -91.24403   \n",
       "4                  43670.8           3.60  28.202  18.63166  -91.29359   \n",
       "\n",
       "   dic_micromol_kg  ta_micromol_kg  dummy_data  \n",
       "0             3915            3863      3685.0  \n",
       "1             3698            3685         NaN  \n",
       "2             3724            3708      3708.0  \n",
       "3             3667            3992      3992.0  \n",
       "4             2928            3023      3023.0  \n",
       "\n",
       "[5 rows x 21 columns]"
      ]
     },
     "execution_count": 41,
     "metadata": {},
     "output_type": "execute_result"
    }
   ],
   "source": [
    "# Print the head of the DataFrame\n",
    "terminos_df.head()"
   ]
  },
  {
   "cell_type": "markdown",
   "id": "46d085c8",
   "metadata": {},
   "source": [
    "#### Print information about a DataFrame including the index dtype and columns, non-null values and memory usage"
   ]
  },
  {
   "cell_type": "code",
   "execution_count": 42,
   "id": "a6da912e",
   "metadata": {},
   "outputs": [
    {
     "name": "stdout",
     "output_type": "stream",
     "text": [
      "<class 'pandas.core.frame.DataFrame'>\n",
      "RangeIndex: 106 entries, 0 to 105\n",
      "Data columns (total 21 columns):\n",
      " #   Column                   Non-Null Count  Dtype  \n",
      "---  ------                   --------------  -----  \n",
      " 0   sample                   106 non-null    object \n",
      " 1   date                     106 non-null    object \n",
      " 2   estuary                  106 non-null    object \n",
      " 3   area                     106 non-null    object \n",
      " 4   station                  106 non-null    object \n",
      " 5   layer_depth              106 non-null    object \n",
      " 6   season                   106 non-null    object \n",
      " 7   chlorophy_microg_l       106 non-null    float64\n",
      " 8   cond_microsiemens_cm     106 non-null    float64\n",
      " 9   depth_m                  106 non-null    float64\n",
      " 10  do_percent_sat           106 non-null    float64\n",
      " 11  do_mg_l                  106 non-null    float64\n",
      " 12  sal_psu                  106 non-null    float64\n",
      " 13  sp_cond_microsiemens_cm  106 non-null    float64\n",
      " 14  turbidity_fnu            106 non-null    float64\n",
      " 15  temp_c                   106 non-null    float64\n",
      " 16  latitude                 106 non-null    float64\n",
      " 17  longitude                106 non-null    float64\n",
      " 18  dic_micromol_kg          106 non-null    int64  \n",
      " 19  ta_micromol_kg           106 non-null    int64  \n",
      " 20  dummy_data               99 non-null     float64\n",
      "dtypes: float64(12), int64(2), object(7)\n",
      "memory usage: 17.5+ KB\n"
     ]
    }
   ],
   "source": [
    "# Print information about the DataFrame\n",
    "terminos_df.info()"
   ]
  },
  {
   "cell_type": "code",
   "execution_count": 43,
   "id": "b22f0981",
   "metadata": {},
   "outputs": [
    {
     "data": {
      "application/vnd.microsoft.datawrangler.viewer.v0+json": {
       "columns": [
        {
         "name": "index",
         "rawType": "object",
         "type": "string"
        },
        {
         "name": "chlorophy_microg_l",
         "rawType": "float64",
         "type": "float"
        },
        {
         "name": "cond_microsiemens_cm",
         "rawType": "float64",
         "type": "float"
        },
        {
         "name": "depth_m",
         "rawType": "float64",
         "type": "float"
        },
        {
         "name": "do_percent_sat",
         "rawType": "float64",
         "type": "float"
        },
        {
         "name": "do_mg_l",
         "rawType": "float64",
         "type": "float"
        },
        {
         "name": "sal_psu",
         "rawType": "float64",
         "type": "float"
        },
        {
         "name": "sp_cond_microsiemens_cm",
         "rawType": "float64",
         "type": "float"
        },
        {
         "name": "turbidity_fnu",
         "rawType": "float64",
         "type": "float"
        },
        {
         "name": "temp_c",
         "rawType": "float64",
         "type": "float"
        },
        {
         "name": "latitude",
         "rawType": "float64",
         "type": "float"
        },
        {
         "name": "longitude",
         "rawType": "float64",
         "type": "float"
        },
        {
         "name": "dic_micromol_kg",
         "rawType": "float64",
         "type": "float"
        },
        {
         "name": "ta_micromol_kg",
         "rawType": "float64",
         "type": "float"
        },
        {
         "name": "dummy_data",
         "rawType": "float64",
         "type": "float"
        }
       ],
       "ref": "868a11fc-9519-42b8-9052-66695715c97e",
       "rows": [
        [
         "count",
         "106.0",
         "106.0",
         "106.0",
         "106.0",
         "106.0",
         "106.0",
         "106.0",
         "106.0",
         "106.0",
         "106.0",
         "106.0",
         "106.0",
         "106.0",
         "99.0"
        ],
        [
         "mean",
         "6.545471698113207",
         "27895.18396226415",
         "1.8301603773584907",
         "89.51509433962265",
         "6.4743396226415095",
         "17.33198113207547",
         "27126.980188679245",
         "100.42962264150943",
         "26.758754716981134",
         "18.61591179245283",
         "-91.60278311320755",
         "2797.9811320754716",
         "2912.9150943396226",
         "2902.8888888888887"
        ],
        [
         "std",
         "14.941262465437656",
         "20931.232513302475",
         "2.038738938596216",
         "29.772290704622304",
         "2.104253750255114",
         "13.578979793350166",
         "20527.53080432144",
         "290.2901128245083",
         "0.9172424700083736",
         "0.11283185313340571",
         "0.24035865585516458",
         "499.85241595479863",
         "472.6943463839231",
         "473.698989260378"
        ],
        [
         "min",
         "0.36",
         "13.8",
         "0.105",
         "1.7",
         "0.12",
         "0.0",
         "13.7",
         "0.88",
         "24.47",
         "18.42403",
         "-91.90218",
         "2152.0",
         "2357.0",
         "2357.0"
        ],
        [
         "25%",
         "2.5549999999999997",
         "1778.0249999999999",
         "0.42874999999999996",
         "84.575",
         "5.6325",
         "0.8574999999999999",
         "1706.875",
         "5.95",
         "26.061999999999998",
         "18.535825000000003",
         "-91.80981",
         "2452.25",
         "2585.5",
         "2561.5"
        ],
        [
         "50%",
         "3.705",
         "33202.600000000006",
         "0.6385000000000001",
         "97.1",
         "6.94",
         "19.759999999999998",
         "31803.25",
         "19.09",
         "26.805999999999997",
         "18.61005",
         "-91.786895",
         "2646.5",
         "2823.0",
         "2814.0"
        ],
        [
         "75%",
         "5.925000000000001",
         "47046.65",
         "2.88325",
         "105.30000000000001",
         "7.7225",
         "30.2975",
         "46668.975",
         "54.7625",
         "27.15325",
         "18.6987975",
         "-91.367565",
         "2963.25",
         "3053.75",
         "3029.0"
        ],
        [
         "max",
         "150.9",
         "59988.6",
         "8.558",
         "174.1",
         "11.66",
         "38.78",
         "58105.0",
         "2422.93",
         "29.283",
         "18.82178",
         "-91.244",
         "4324.0",
         "4307.0",
         "4307.0"
        ]
       ],
       "shape": {
        "columns": 14,
        "rows": 8
       }
      },
      "text/html": [
       "<div>\n",
       "<style scoped>\n",
       "    .dataframe tbody tr th:only-of-type {\n",
       "        vertical-align: middle;\n",
       "    }\n",
       "\n",
       "    .dataframe tbody tr th {\n",
       "        vertical-align: top;\n",
       "    }\n",
       "\n",
       "    .dataframe thead th {\n",
       "        text-align: right;\n",
       "    }\n",
       "</style>\n",
       "<table border=\"1\" class=\"dataframe\">\n",
       "  <thead>\n",
       "    <tr style=\"text-align: right;\">\n",
       "      <th></th>\n",
       "      <th>chlorophy_microg_l</th>\n",
       "      <th>cond_microsiemens_cm</th>\n",
       "      <th>depth_m</th>\n",
       "      <th>do_percent_sat</th>\n",
       "      <th>do_mg_l</th>\n",
       "      <th>sal_psu</th>\n",
       "      <th>sp_cond_microsiemens_cm</th>\n",
       "      <th>turbidity_fnu</th>\n",
       "      <th>temp_c</th>\n",
       "      <th>latitude</th>\n",
       "      <th>longitude</th>\n",
       "      <th>dic_micromol_kg</th>\n",
       "      <th>ta_micromol_kg</th>\n",
       "      <th>dummy_data</th>\n",
       "    </tr>\n",
       "  </thead>\n",
       "  <tbody>\n",
       "    <tr>\n",
       "      <th>count</th>\n",
       "      <td>106.000000</td>\n",
       "      <td>106.000000</td>\n",
       "      <td>106.000000</td>\n",
       "      <td>106.000000</td>\n",
       "      <td>106.000000</td>\n",
       "      <td>106.000000</td>\n",
       "      <td>106.000000</td>\n",
       "      <td>106.000000</td>\n",
       "      <td>106.000000</td>\n",
       "      <td>106.000000</td>\n",
       "      <td>106.000000</td>\n",
       "      <td>106.000000</td>\n",
       "      <td>106.000000</td>\n",
       "      <td>99.000000</td>\n",
       "    </tr>\n",
       "    <tr>\n",
       "      <th>mean</th>\n",
       "      <td>6.545472</td>\n",
       "      <td>27895.183962</td>\n",
       "      <td>1.830160</td>\n",
       "      <td>89.515094</td>\n",
       "      <td>6.474340</td>\n",
       "      <td>17.331981</td>\n",
       "      <td>27126.980189</td>\n",
       "      <td>100.429623</td>\n",
       "      <td>26.758755</td>\n",
       "      <td>18.615912</td>\n",
       "      <td>-91.602783</td>\n",
       "      <td>2797.981132</td>\n",
       "      <td>2912.915094</td>\n",
       "      <td>2902.888889</td>\n",
       "    </tr>\n",
       "    <tr>\n",
       "      <th>std</th>\n",
       "      <td>14.941262</td>\n",
       "      <td>20931.232513</td>\n",
       "      <td>2.038739</td>\n",
       "      <td>29.772291</td>\n",
       "      <td>2.104254</td>\n",
       "      <td>13.578980</td>\n",
       "      <td>20527.530804</td>\n",
       "      <td>290.290113</td>\n",
       "      <td>0.917242</td>\n",
       "      <td>0.112832</td>\n",
       "      <td>0.240359</td>\n",
       "      <td>499.852416</td>\n",
       "      <td>472.694346</td>\n",
       "      <td>473.698989</td>\n",
       "    </tr>\n",
       "    <tr>\n",
       "      <th>min</th>\n",
       "      <td>0.360000</td>\n",
       "      <td>13.800000</td>\n",
       "      <td>0.105000</td>\n",
       "      <td>1.700000</td>\n",
       "      <td>0.120000</td>\n",
       "      <td>0.000000</td>\n",
       "      <td>13.700000</td>\n",
       "      <td>0.880000</td>\n",
       "      <td>24.470000</td>\n",
       "      <td>18.424030</td>\n",
       "      <td>-91.902180</td>\n",
       "      <td>2152.000000</td>\n",
       "      <td>2357.000000</td>\n",
       "      <td>2357.000000</td>\n",
       "    </tr>\n",
       "    <tr>\n",
       "      <th>25%</th>\n",
       "      <td>2.555000</td>\n",
       "      <td>1778.025000</td>\n",
       "      <td>0.428750</td>\n",
       "      <td>84.575000</td>\n",
       "      <td>5.632500</td>\n",
       "      <td>0.857500</td>\n",
       "      <td>1706.875000</td>\n",
       "      <td>5.950000</td>\n",
       "      <td>26.062000</td>\n",
       "      <td>18.535825</td>\n",
       "      <td>-91.809810</td>\n",
       "      <td>2452.250000</td>\n",
       "      <td>2585.500000</td>\n",
       "      <td>2561.500000</td>\n",
       "    </tr>\n",
       "    <tr>\n",
       "      <th>50%</th>\n",
       "      <td>3.705000</td>\n",
       "      <td>33202.600000</td>\n",
       "      <td>0.638500</td>\n",
       "      <td>97.100000</td>\n",
       "      <td>6.940000</td>\n",
       "      <td>19.760000</td>\n",
       "      <td>31803.250000</td>\n",
       "      <td>19.090000</td>\n",
       "      <td>26.806000</td>\n",
       "      <td>18.610050</td>\n",
       "      <td>-91.786895</td>\n",
       "      <td>2646.500000</td>\n",
       "      <td>2823.000000</td>\n",
       "      <td>2814.000000</td>\n",
       "    </tr>\n",
       "    <tr>\n",
       "      <th>75%</th>\n",
       "      <td>5.925000</td>\n",
       "      <td>47046.650000</td>\n",
       "      <td>2.883250</td>\n",
       "      <td>105.300000</td>\n",
       "      <td>7.722500</td>\n",
       "      <td>30.297500</td>\n",
       "      <td>46668.975000</td>\n",
       "      <td>54.762500</td>\n",
       "      <td>27.153250</td>\n",
       "      <td>18.698798</td>\n",
       "      <td>-91.367565</td>\n",
       "      <td>2963.250000</td>\n",
       "      <td>3053.750000</td>\n",
       "      <td>3029.000000</td>\n",
       "    </tr>\n",
       "    <tr>\n",
       "      <th>max</th>\n",
       "      <td>150.900000</td>\n",
       "      <td>59988.600000</td>\n",
       "      <td>8.558000</td>\n",
       "      <td>174.100000</td>\n",
       "      <td>11.660000</td>\n",
       "      <td>38.780000</td>\n",
       "      <td>58105.000000</td>\n",
       "      <td>2422.930000</td>\n",
       "      <td>29.283000</td>\n",
       "      <td>18.821780</td>\n",
       "      <td>-91.244000</td>\n",
       "      <td>4324.000000</td>\n",
       "      <td>4307.000000</td>\n",
       "      <td>4307.000000</td>\n",
       "    </tr>\n",
       "  </tbody>\n",
       "</table>\n",
       "</div>"
      ],
      "text/plain": [
       "       chlorophy_microg_l  cond_microsiemens_cm     depth_m  do_percent_sat  \\\n",
       "count          106.000000            106.000000  106.000000      106.000000   \n",
       "mean             6.545472          27895.183962    1.830160       89.515094   \n",
       "std             14.941262          20931.232513    2.038739       29.772291   \n",
       "min              0.360000             13.800000    0.105000        1.700000   \n",
       "25%              2.555000           1778.025000    0.428750       84.575000   \n",
       "50%              3.705000          33202.600000    0.638500       97.100000   \n",
       "75%              5.925000          47046.650000    2.883250      105.300000   \n",
       "max            150.900000          59988.600000    8.558000      174.100000   \n",
       "\n",
       "          do_mg_l     sal_psu  sp_cond_microsiemens_cm  turbidity_fnu  \\\n",
       "count  106.000000  106.000000               106.000000     106.000000   \n",
       "mean     6.474340   17.331981             27126.980189     100.429623   \n",
       "std      2.104254   13.578980             20527.530804     290.290113   \n",
       "min      0.120000    0.000000                13.700000       0.880000   \n",
       "25%      5.632500    0.857500              1706.875000       5.950000   \n",
       "50%      6.940000   19.760000             31803.250000      19.090000   \n",
       "75%      7.722500   30.297500             46668.975000      54.762500   \n",
       "max     11.660000   38.780000             58105.000000    2422.930000   \n",
       "\n",
       "           temp_c    latitude   longitude  dic_micromol_kg  ta_micromol_kg  \\\n",
       "count  106.000000  106.000000  106.000000       106.000000      106.000000   \n",
       "mean    26.758755   18.615912  -91.602783      2797.981132     2912.915094   \n",
       "std      0.917242    0.112832    0.240359       499.852416      472.694346   \n",
       "min     24.470000   18.424030  -91.902180      2152.000000     2357.000000   \n",
       "25%     26.062000   18.535825  -91.809810      2452.250000     2585.500000   \n",
       "50%     26.806000   18.610050  -91.786895      2646.500000     2823.000000   \n",
       "75%     27.153250   18.698798  -91.367565      2963.250000     3053.750000   \n",
       "max     29.283000   18.821780  -91.244000      4324.000000     4307.000000   \n",
       "\n",
       "        dummy_data  \n",
       "count    99.000000  \n",
       "mean   2902.888889  \n",
       "std     473.698989  \n",
       "min    2357.000000  \n",
       "25%    2561.500000  \n",
       "50%    2814.000000  \n",
       "75%    3029.000000  \n",
       "max    4307.000000  "
      ]
     },
     "execution_count": 43,
     "metadata": {},
     "output_type": "execute_result"
    }
   ],
   "source": [
    "# Print descriptive statistics\n",
    "terminos_df.describe()"
   ]
  },
  {
   "cell_type": "markdown",
   "id": "f0920e7a",
   "metadata": {},
   "source": [
    "#### Group the data by a categorical column, and calculate the mean and standard deviation of a numerical column"
   ]
  },
  {
   "cell_type": "markdown",
   "id": "64a2da40",
   "metadata": {},
   "source": [
    "## Missing values in each column"
   ]
  },
  {
   "cell_type": "code",
   "execution_count": 44,
   "id": "0e5f255f",
   "metadata": {},
   "outputs": [
    {
     "data": {
      "application/vnd.microsoft.datawrangler.viewer.v0+json": {
       "columns": [
        {
         "name": "index",
         "rawType": "object",
         "type": "string"
        },
        {
         "name": "0",
         "rawType": "int64",
         "type": "integer"
        }
       ],
       "ref": "e21a933a-ba27-438b-b423-4922f950c4ab",
       "rows": [
        [
         "sample",
         "0"
        ],
        [
         "date",
         "0"
        ],
        [
         "estuary",
         "0"
        ],
        [
         "area",
         "0"
        ],
        [
         "station",
         "0"
        ],
        [
         "layer_depth",
         "0"
        ],
        [
         "season",
         "0"
        ],
        [
         "chlorophy_microg_l",
         "0"
        ],
        [
         "cond_microsiemens_cm",
         "0"
        ],
        [
         "depth_m",
         "0"
        ],
        [
         "do_percent_sat",
         "0"
        ],
        [
         "do_mg_l",
         "0"
        ],
        [
         "sal_psu",
         "0"
        ],
        [
         "sp_cond_microsiemens_cm",
         "0"
        ],
        [
         "turbidity_fnu",
         "0"
        ],
        [
         "temp_c",
         "0"
        ],
        [
         "latitude",
         "0"
        ],
        [
         "longitude",
         "0"
        ],
        [
         "dic_micromol_kg",
         "0"
        ],
        [
         "ta_micromol_kg",
         "0"
        ],
        [
         "dummy_data",
         "7"
        ]
       ],
       "shape": {
        "columns": 1,
        "rows": 21
       }
      },
      "text/plain": [
       "sample                     0\n",
       "date                       0\n",
       "estuary                    0\n",
       "area                       0\n",
       "station                    0\n",
       "layer_depth                0\n",
       "season                     0\n",
       "chlorophy_microg_l         0\n",
       "cond_microsiemens_cm       0\n",
       "depth_m                    0\n",
       "do_percent_sat             0\n",
       "do_mg_l                    0\n",
       "sal_psu                    0\n",
       "sp_cond_microsiemens_cm    0\n",
       "turbidity_fnu              0\n",
       "temp_c                     0\n",
       "latitude                   0\n",
       "longitude                  0\n",
       "dic_micromol_kg            0\n",
       "ta_micromol_kg             0\n",
       "dummy_data                 7\n",
       "dtype: int64"
      ]
     },
     "execution_count": 44,
     "metadata": {},
     "output_type": "execute_result"
    }
   ],
   "source": [
    "# Use the Pandas isnull() function to identify the number of missing values in each column.\n",
    "terminos_df.isnull().sum()"
   ]
  },
  {
   "cell_type": "markdown",
   "id": "41dbf612",
   "metadata": {},
   "source": [
    "#### Method to use for filling holes in reindexed Series\n"
   ]
  },
  {
   "cell_type": "markdown",
   "id": "241640e3",
   "metadata": {},
   "source": [
    "#**ffill**: propagate last valid observation forward to next valid.\n",
    "\n",
    "#**bfill**: use next valid observation to fill gap."
   ]
  },
  {
   "cell_type": "code",
   "execution_count": 45,
   "id": "f00275a2",
   "metadata": {},
   "outputs": [],
   "source": [
    "# Create new data frame (with missing values filled)\n",
    "terminos_df_fill = terminos_df.copy()"
   ]
  },
  {
   "cell_type": "code",
   "execution_count": 46,
   "id": "9207075d",
   "metadata": {},
   "outputs": [],
   "source": [
    "# Use fill method \n",
    "terminos_df_fill = terminos_df_fill.ffill()  #Pronto estará en desuso: terminos_df_fill.fillna(method=\"ffill\")"
   ]
  },
  {
   "cell_type": "code",
   "execution_count": 47,
   "id": "77f4e880",
   "metadata": {},
   "outputs": [
    {
     "data": {
      "application/vnd.microsoft.datawrangler.viewer.v0+json": {
       "columns": [
        {
         "name": "index",
         "rawType": "object",
         "type": "string"
        },
        {
         "name": "0",
         "rawType": "int64",
         "type": "integer"
        }
       ],
       "ref": "f5cdcbc0-426c-4fe5-a59d-73a874a54960",
       "rows": [
        [
         "sample",
         "0"
        ],
        [
         "date",
         "0"
        ],
        [
         "estuary",
         "0"
        ],
        [
         "area",
         "0"
        ],
        [
         "station",
         "0"
        ],
        [
         "layer_depth",
         "0"
        ],
        [
         "season",
         "0"
        ],
        [
         "chlorophy_microg_l",
         "0"
        ],
        [
         "cond_microsiemens_cm",
         "0"
        ],
        [
         "depth_m",
         "0"
        ],
        [
         "do_percent_sat",
         "0"
        ],
        [
         "do_mg_l",
         "0"
        ],
        [
         "sal_psu",
         "0"
        ],
        [
         "sp_cond_microsiemens_cm",
         "0"
        ],
        [
         "turbidity_fnu",
         "0"
        ],
        [
         "temp_c",
         "0"
        ],
        [
         "latitude",
         "0"
        ],
        [
         "longitude",
         "0"
        ],
        [
         "dic_micromol_kg",
         "0"
        ],
        [
         "ta_micromol_kg",
         "0"
        ],
        [
         "dummy_data",
         "0"
        ]
       ],
       "shape": {
        "columns": 1,
        "rows": 21
       }
      },
      "text/plain": [
       "sample                     0\n",
       "date                       0\n",
       "estuary                    0\n",
       "area                       0\n",
       "station                    0\n",
       "layer_depth                0\n",
       "season                     0\n",
       "chlorophy_microg_l         0\n",
       "cond_microsiemens_cm       0\n",
       "depth_m                    0\n",
       "do_percent_sat             0\n",
       "do_mg_l                    0\n",
       "sal_psu                    0\n",
       "sp_cond_microsiemens_cm    0\n",
       "turbidity_fnu              0\n",
       "temp_c                     0\n",
       "latitude                   0\n",
       "longitude                  0\n",
       "dic_micromol_kg            0\n",
       "ta_micromol_kg             0\n",
       "dummy_data                 0\n",
       "dtype: int64"
      ]
     },
     "execution_count": 47,
     "metadata": {},
     "output_type": "execute_result"
    }
   ],
   "source": [
    "terminos_df_fill.isnull().sum()"
   ]
  },
  {
   "cell_type": "markdown",
   "id": "acc06f64",
   "metadata": {},
   "source": [
    "#### Interpolation for filling missing values"
   ]
  },
  {
   "cell_type": "code",
   "execution_count": 48,
   "id": "5d7ec8d1",
   "metadata": {},
   "outputs": [
    {
     "name": "stdout",
     "output_type": "stream",
     "text": [
      "sample                     0\n",
      "date                       0\n",
      "estuary                    0\n",
      "area                       0\n",
      "station                    0\n",
      "layer_depth                0\n",
      "season                     0\n",
      "chlorophy_microg_l         0\n",
      "cond_microsiemens_cm       0\n",
      "depth_m                    0\n",
      "do_percent_sat             0\n",
      "do_mg_l                    0\n",
      "sal_psu                    0\n",
      "sp_cond_microsiemens_cm    0\n",
      "turbidity_fnu              0\n",
      "temp_c                     0\n",
      "latitude                   0\n",
      "longitude                  0\n",
      "dic_micromol_kg            0\n",
      "ta_micromol_kg             0\n",
      "dummy_data                 0\n",
      "dtype: int64\n"
     ]
    },
    {
     "name": "stderr",
     "output_type": "stream",
     "text": [
      "C:\\Users\\JudithP.DESKTOP-RHSB5HU\\AppData\\Local\\Temp\\ipykernel_17296\\2743380071.py:2: FutureWarning: DataFrame.interpolate with object dtype is deprecated and will raise in a future version. Call obj.infer_objects(copy=False) before interpolating instead.\n",
      "  terminos_df_fill_linear = terminos_df_fill_linear.interpolate(method='linear')\n"
     ]
    }
   ],
   "source": [
    "terminos_df_fill_linear = terminos_df.copy()\n",
    "terminos_df_fill_linear = terminos_df_fill_linear.interpolate(method='linear')\n",
    "print(terminos_df_fill_linear.isnull().sum())"
   ]
  },
  {
   "cell_type": "markdown",
   "id": "c60c64e4",
   "metadata": {},
   "source": [
    "# Exercises"
   ]
  },
  {
   "cell_type": "markdown",
   "id": "fa06df73",
   "metadata": {},
   "source": [
    "#### Opción 1: Group the data by a categorical column, and calculate the mean and standard deviation of a numerical column"
   ]
  },
  {
   "cell_type": "markdown",
   "id": "74148c29",
   "metadata": {},
   "source": [
    "1. Create a new column called \"TA_DIC_ratio\" that is the ratio of TA to DIC (TA/DIC)"
   ]
  },
  {
   "cell_type": "code",
   "execution_count": 49,
   "id": "3ff175e5",
   "metadata": {},
   "outputs": [],
   "source": [
    "terminos_df[\"TA_DIC_ratio\"] = terminos_df[\"ta_micromol_kg\"] / terminos_df[\"dic_micromol_kg\"]\n",
    "\n"
   ]
  },
  {
   "cell_type": "code",
   "execution_count": 50,
   "id": "776870c0",
   "metadata": {},
   "outputs": [
    {
     "data": {
      "text/plain": [
       "<Axes: >"
      ]
     },
     "execution_count": 50,
     "metadata": {},
     "output_type": "execute_result"
    },
    {
     "data": {
      "image/png": "[encoded data removed]",
      "text/plain": [
       "<Figure size 640x480 with 1 Axes>"
      ]
     },
     "metadata": {},
     "output_type": "display_data"
    }
   ],
   "source": [
    "terminos_df[\"TA_DIC_ratio\"].plot() #Hacer un gráfico de la nueva columna para visualizar la razón TA/DIC rápidamente"
   ]
  },
  {
   "cell_type": "code",
   "execution_count": 51,
   "id": "ec316fdc",
   "metadata": {},
   "outputs": [
    {
     "data": {
      "text/plain": [
       "np.int64(0)"
      ]
     },
     "execution_count": 51,
     "metadata": {},
     "output_type": "execute_result"
    }
   ],
   "source": [
    "terminos_df[\"TA_DIC_ratio\"].isnull().sum()  #Verificar si hay valores nulos (que puedan sesgar los resultados e interpretación) en la nueva columna\n"
   ]
  },
  {
   "cell_type": "code",
   "execution_count": 54,
   "id": "86655898",
   "metadata": {},
   "outputs": [
    {
     "data": {
      "image/png": "[encoded data removed]",
      "text/plain": [
       "<Figure size 640x480 with 1 Axes>"
      ]
     },
     "metadata": {},
     "output_type": "display_data"
    }
   ],
   "source": [
    "import matplotlib.pyplot as plt\n",
    "\n",
    "#Boxplot para ver rango y valores atípicos: Observación rápida de la variabilidad y posibles valores extremos\n",
    "plt.boxplot(terminos_df[\"TA_DIC_ratio\"].dropna())\n",
    "plt.ylabel(\"TA/DIC ratio\")\n",
    "plt.title(\"Boxplot del radio TA/DIC\")\n",
    "plt.show()\n"
   ]
  },
  {
   "cell_type": "code",
   "execution_count": null,
   "id": "a5033020",
   "metadata": {},
   "outputs": [],
   "source": [
    "#Histograma para ver la distribución de datos\n",
    "import matplotlib.pyplot as plt\n",
    "\n",
    "plt.hist(terminos_df[\"TA_DIC_ratio\"].dropna(), bins=30, edgecolor=\"black\")\n",
    "plt.xlabel(\"TA/DIC ratio\")\n",
    "plt.ylabel(\"Frecuencia\")\n",
    "plt.title(\"Distribución del radio TA/DIC\")\n",
    "plt.show()\n"
   ]
  },
  {
   "cell_type": "markdown",
   "id": "f38dedd2",
   "metadata": {},
   "source": [
    "2. Calculate the mean and standard deviation of the \"TA_DIC_ratio\" for each season"
   ]
  },
  {
   "cell_type": "code",
   "execution_count": null,
   "id": "87e613a4",
   "metadata": {},
   "outputs": [],
   "source": [
    "TA_DIC_ratio = terminos_df[\"TA_DIC_ratio\"] #Definir una variable con la nueva columna para facilitar el análisis estadístico"
   ]
  },
  {
   "cell_type": "code",
   "execution_count": null,
   "id": "76c698ad",
   "metadata": {},
   "outputs": [],
   "source": [
    "#Filtrar datos de estación Dry\n",
    "terminos_df_dry = terminos_df[terminos_df[\"season\"] == \"Dry\"]\n",
    "media_dry = terminos_df_dry[\"TA_DIC_ratio\"].mean()\n",
    "std_dry = terminos_df_dry[\"TA_DIC_ratio\"].std()"
   ]
  },
  {
   "cell_type": "code",
   "execution_count": null,
   "id": "5d3f6b3a",
   "metadata": {},
   "outputs": [],
   "source": [
    "terminos_df_dry"
   ]
  },
  {
   "cell_type": "code",
   "execution_count": null,
   "id": "0efba38c",
   "metadata": {},
   "outputs": [],
   "source": [
    "media_dry"
   ]
  },
  {
   "cell_type": "code",
   "execution_count": null,
   "id": "9a869fcb",
   "metadata": {},
   "outputs": [],
   "source": [
    "std_dry"
   ]
  },
  {
   "cell_type": "code",
   "execution_count": null,
   "id": "43cfb4a7",
   "metadata": {},
   "outputs": [],
   "source": [
    "#Filtrar datos de estación Rainy\n",
    "terminos_df_rainy = terminos_df[terminos_df[\"season\"] == \"Rainy\"]\n",
    "media_rainy = terminos_df_rainy[\"TA_DIC_ratio\"].mean()\n",
    "std_rainy = terminos_df_rainy[\"TA_DIC_ratio\"].std()"
   ]
  },
  {
   "cell_type": "code",
   "execution_count": null,
   "id": "9633381f",
   "metadata": {},
   "outputs": [],
   "source": [
    "terminos_df_rainy"
   ]
  },
  {
   "cell_type": "code",
   "execution_count": null,
   "id": "ba19b753",
   "metadata": {},
   "outputs": [],
   "source": [
    "media_rainy"
   ]
  },
  {
   "cell_type": "code",
   "execution_count": null,
   "id": "6f6b24d8",
   "metadata": {},
   "outputs": [],
   "source": [
    "std_rainy"
   ]
  },
  {
   "cell_type": "markdown",
   "id": "23dc43cb",
   "metadata": {},
   "source": [
    "3. Calculate the mean and standard deviation of the \"TA_DIC_ratio\" for each season and area\n"
   ]
  },
  {
   "cell_type": "code",
   "execution_count": null,
   "id": "f595ae91",
   "metadata": {},
   "outputs": [],
   "source": [
    "#Filtrar datos por estación Dry y por area\n",
    "terminos_df_dry_area = terminos_df[\n",
    "\t(terminos_df[\"season\"] == \"Dry\") &\n",
    "\t(terminos_df[\"area\"].isin([\"Coast\", \"River\", \"Plume\"]))\n",
    "]"
   ]
  },
  {
   "cell_type": "code",
   "execution_count": null,
   "id": "d5c30b20",
   "metadata": {},
   "outputs": [
    {
     "data": {
      "text/plain": [
       "np.float64(1.0585579384004313)"
      ]
     },
     "execution_count": 92,
     "metadata": {},
     "output_type": "execute_result"
    }
   ],
   "source": [
    "media_dry_area = terminos_df_dry_area[\"TA_DIC_ratio\"].mean()\n",
    "media_dry_area"
   ]
  },
  {
   "cell_type": "code",
   "execution_count": null,
   "id": "b13dffdb",
   "metadata": {},
   "outputs": [
    {
     "data": {
      "text/plain": [
       "0.08611149630529742"
      ]
     },
     "execution_count": 94,
     "metadata": {},
     "output_type": "execute_result"
    }
   ],
   "source": [
    "std_dry_area = terminos_df_dry_area[\"TA_DIC_ratio\"].std()\n",
    "std_dry_area"
   ]
  },
  {
   "cell_type": "code",
   "execution_count": null,
   "id": "722137fa",
   "metadata": {},
   "outputs": [],
   "source": [
    "#Filtrar datos por estación Rainy y por area\n",
    "terminos_df_rainy_area = terminos_df[\n",
    "\t(terminos_df[\"season\"] == \"Rainy\") &\n",
    "\t(terminos_df[\"area\"].isin([\"Coast\", \"River\", \"Plume\"]))\n",
    "]"
   ]
  },
  {
   "cell_type": "code",
   "execution_count": null,
   "id": "05fb27b4",
   "metadata": {},
   "outputs": [
    {
     "data": {
      "text/plain": [
       "np.float64(1.0223495996496483)"
      ]
     },
     "execution_count": 96,
     "metadata": {},
     "output_type": "execute_result"
    }
   ],
   "source": [
    "media_rainy_area = terminos_df_rainy_area[\"TA_DIC_ratio\"].mean()\n",
    "media_rainy_area"
   ]
  },
  {
   "cell_type": "code",
   "execution_count": null,
   "id": "f4de5157",
   "metadata": {},
   "outputs": [
    {
     "data": {
      "text/plain": [
       "0.1009235680815245"
      ]
     },
     "execution_count": 97,
     "metadata": {},
     "output_type": "execute_result"
    }
   ],
   "source": [
    "std_rainy_area = terminos_df_rainy_area[\"TA_DIC_ratio\"].std()\n",
    "std_rainy_area"
   ]
  },
  {
   "cell_type": "markdown",
   "id": "20e0cdbb",
   "metadata": {},
   "source": [
    "4. Save the results to an Excel file called \"TA_DIC_Season_Areas.xlsx\""
   ]
  },
  {
   "cell_type": "code",
   "execution_count": null,
   "id": "425f5587",
   "metadata": {},
   "outputs": [],
   "source": [
    "import pandas as pd\n",
    "\n",
    "with pd.ExcelWriter(\"C:\\Projects\\modelab_jp\\TA_DIC_Season_Areas.xlsx\") as writer:\n",
    "    terminos_df_dry_area.to_excel(writer, sheet_name=\"Dry Season\")\n",
    "    terminos_df_rainy_area.to_excel(writer, sheet_name=\"Rainy Season\")"
   ]
  },
  {
   "cell_type": "markdown",
   "id": "fbc7ed61",
   "metadata": {},
   "source": [
    "# 05 Group by a categorical column, and calculate the mean and standard deviation of a numerical column"
   ]
  },
  {
   "cell_type": "markdown",
   "id": "2894b951",
   "metadata": {},
   "source": [
    "#### Opción 2: Group the data by a categorical column, and calculate the mean and standard deviation of a numerical column"
   ]
  },
  {
   "cell_type": "code",
   "execution_count": null,
   "id": "0054f87c",
   "metadata": {},
   "outputs": [],
   "source": []
  },
  {
   "cell_type": "code",
   "execution_count": 55,
   "id": "f77163bf",
   "metadata": {},
   "outputs": [],
   "source": [
    "# Definir las columnas a analizar\n",
    "variables = ['dic_micromol_kg', 'ta_micromol_kg', 'TA_DIC_ratio']\n",
    "\n",
    "# Calcular la media y la desviación estándar agrupando por season y area\n",
    "result = terminos_df.groupby(['season', 'area'])[variables].agg(['mean', 'std']).reset_index()"
   ]
  },
  {
   "cell_type": "code",
   "execution_count": 56,
   "id": "0cfce042",
   "metadata": {},
   "outputs": [
    {
     "name": "stdout",
     "output_type": "stream",
     "text": [
      "  season_  area_  dic_micromol_kg_mean  dic_micromol_kg_std  \\\n",
      "0     Dry  Coast           2562.208333           134.178654   \n",
      "1     Dry  Plume           2751.208333           258.145894   \n",
      "2     Dry  River           3514.458333           474.327165   \n",
      "3   Rainy  Coast           2290.250000            68.637553   \n",
      "4   Rainy  Plume           2393.272727           133.077489   \n",
      "5   Rainy  River           2809.818182           167.515264   \n",
      "\n",
      "   ta_micromol_kg_mean  ta_micromol_kg_std  TA_DIC_ratio_mean  \\\n",
      "0          2859.125000          335.087440           1.115766   \n",
      "1          2908.291667          194.581039           1.059687   \n",
      "2          3509.583333          455.370171           1.000221   \n",
      "3          2497.000000          317.024232           1.090127   \n",
      "4          2449.636364           80.818652           1.025544   \n",
      "5          2655.545455          169.717626           0.945217   \n",
      "\n",
      "   TA_DIC_ratio_std  \n",
      "0          0.115033  \n",
      "1          0.035574  \n",
      "2          0.037747  \n",
      "3          0.129658  \n",
      "4          0.049222  \n",
      "5          0.025084  \n"
     ]
    }
   ],
   "source": [
    "# Renombrar las columnas para mayor claridad\n",
    "result.columns = ['_'.join(col).strip() if isinstance(col, tuple) else col for col in result.columns]\n",
    "\n",
    "# Mostrar el resultado\n",
    "print(result)"
   ]
  },
  {
   "cell_type": "code",
   "execution_count": 57,
   "id": "2bcec5cd",
   "metadata": {},
   "outputs": [],
   "source": [
    "import pandas as pd\n",
    "from tabulate import tabulate"
   ]
  },
  {
   "cell_type": "code",
   "execution_count": 58,
   "id": "f9843247",
   "metadata": {},
   "outputs": [],
   "source": [
    "# Formatear los valores para mostrar \"media ± desviación estándar\" sin notación científica y con dos cifras decimales\n",
    "for var in variables:\n",
    "    mean_col = f\"{var}_mean\"\n",
    "    std_col = f\"{var}_std\"\n",
    "    result[f\"{var}_formatted\"] = result.apply(lambda row: f\"{row[mean_col]:,.2f} ± {row[std_col]:,.2f}\", axis=1)"
   ]
  },
  {
   "cell_type": "code",
   "execution_count": 60,
   "id": "f2775395",
   "metadata": {},
   "outputs": [],
   "source": [
    "# Seleccionar solo las columnas formateadas junto con los índices\n",
    "formatted_result = result[['season_', 'area_'] + [f\"{var}_formatted\" for var in variables]]"
   ]
  },
  {
   "cell_type": "code",
   "execution_count": 61,
   "id": "440856dc",
   "metadata": {},
   "outputs": [
    {
     "name": "stdout",
     "output_type": "stream",
     "text": [
      "+---------+-------+---------------------------+--------------------------+------------------------+\n",
      "| season_ | area_ | dic_micromol_kg_formatted | ta_micromol_kg_formatted | TA_DIC_ratio_formatted |\n",
      "+---------+-------+---------------------------+--------------------------+------------------------+\n",
      "|   Dry   | Coast |     2,562.21 ± 134.18     |    2,859.12 ± 335.09     |      1.12 ± 0.12       |\n",
      "|   Dry   | Plume |     2,751.21 ± 258.15     |    2,908.29 ± 194.58     |      1.06 ± 0.04       |\n",
      "|   Dry   | River |     3,514.46 ± 474.33     |    3,509.58 ± 455.37     |      1.00 ± 0.04       |\n",
      "|  Rainy  | Coast |     2,290.25 ± 68.64      |    2,497.00 ± 317.02     |      1.09 ± 0.13       |\n",
      "|  Rainy  | Plume |     2,393.27 ± 133.08     |     2,449.64 ± 80.82     |      1.03 ± 0.05       |\n",
      "|  Rainy  | River |     2,809.82 ± 167.52     |    2,655.55 ± 169.72     |      0.95 ± 0.03       |\n",
      "+---------+-------+---------------------------+--------------------------+------------------------+\n"
     ]
    }
   ],
   "source": [
    "# Mostrar la tabla con los resultados formateados usando tabulate\n",
    "table = tabulate(formatted_result, headers='keys', tablefmt='pretty', showindex=False)\n",
    "print(table)"
   ]
  },
  {
   "cell_type": "code",
   "execution_count": 62,
   "id": "32c4e699",
   "metadata": {},
   "outputs": [],
   "source": [
    "# Guardar la tabla en un archivo CSV\n",
    "formatted_result.to_csv(\"TA_DIC_Season_Areas2.csv\", index=False)"
   ]
  },
  {
   "cell_type": "markdown",
   "id": "670bb06b",
   "metadata": {},
   "source": []
  }
 ],
 "metadata": {
  "kernelspec": {
   "display_name": "base",
   "language": "python",
   "name": "python3"
  },
  "language_info": {
   "codemirror_mode": {
    "name": "ipython",
    "version": 3
   },
   "file_extension": ".py",
   "mimetype": "text/x-python",
   "name": "python",
   "nbconvert_exporter": "python",
   "pygments_lexer": "ipython3",
   "version": "3.13.5"
  }
 },
 "nbformat": 4,
 "nbformat_minor": 5
}
