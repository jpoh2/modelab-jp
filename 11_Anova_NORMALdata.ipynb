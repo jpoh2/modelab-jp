{
 "cells": [
  {
   "cell_type": "code",
   "execution_count": 3,
   "id": "c3db50ca",
   "metadata": {},
   "outputs": [],
   "source": [
    "#Definir FUNCIÓN que me permitirá importar un archivo CSV y cargarlo en un DataFrame de pandas\n",
    "def import_csv(file):\n",
    "    # Read the csv file into a DataFrame: df con el paquete pandas\n",
    "    import pandas as pd  #Python llama a paquetería pandas \n",
    "    return pd.read_csv(file)"
   ]
  },
  {
   "cell_type": "code",
   "execution_count": 4,
   "id": "645660ec",
   "metadata": {},
   "outputs": [],
   "source": [
    "#Utilizar el nombre de la FUNCIÓN PREdefinida y la ruta de acceso (path) al archivo .csv de interés\n",
    "import_csv(\"C:/Projects/modelab_jp/data/Terminos_lagoon_TA_DIC_2023_RawData.csv\")\n",
    "terminos_df = import_csv(\"C:/Projects/modelab_jp/data/Terminos_lagoon_TA_DIC_2023_RawData.csv\")"
   ]
  },
  {
   "cell_type": "markdown",
   "id": "b360bbbd",
   "metadata": {},
   "source": [
    "**Beware! the data are not normal. This exercise is only an example**"
   ]
  },
  {
   "cell_type": "code",
   "execution_count": 5,
   "id": "13106f81",
   "metadata": {},
   "outputs": [],
   "source": [
    "#Importar las librerías necesarias para realizar ANOVA de dos vías\n",
    "import statsmodels.api as sm\n",
    "from statsmodels.formula.api import ols\n",
    "from statsmodels.stats.multicomp import pairwise_tukeyhsd\n",
    "\n",
    "#Definir FUNCIÓN para realizar ANOVA de dos vías y prueba post-hoc de Tukey HSD\n",
    "def two_way_anova_tukey(df, response, factor1, factor2, alpha=0.05):\n",
    "    \"\"\"\n",
    "    Performs a two-way ANOVA and Tukey HSD post-hoc test if significant effects are found.\n",
    "\n",
    "    Parameters:\n",
    "    - df (DataFrame): The dataset.\n",
    "    - response (str): Dependent variable column.\n",
    "    - factor1 (str): First independent variable column.\n",
    "    - factor2 (str): Second independent variable column.\n",
    "    - alpha (float): Significance level (default = 0.05).\n",
    "    \"\"\"\n",
    "    # Fit the two-way ANOVA model and generate the ANOVA table\n",
    "    model = ols(f'{response} ~ C({factor1}) + C({factor2}) + C({factor1}):C({factor2})', data=df).fit()\n",
    "    anova_table = sm.stats.anova_lm(model, typ=2)\n",
    "    print(\"\\nANOVA Results:\\n\", anova_table)\n",
    "\n",
    "    # Run Tukey HSD post-hoc test if significant effects are found\n",
    "    if (anova_table['PR(>F)'] < alpha).any():\n",
    "        print(\"\\nSignificant effects detected. Running Tukey HSD post-hoc test:\")\n",
    "        df['Group'] = df[factor1].astype(str) + \" - \" + df[factor2].astype(str)\n",
    "        tukey = pairwise_tukeyhsd(df[response], df['Group'], alpha=alpha)\n",
    "        print(tukey.summary())\n",
    "    else:\n",
    "        print(\"\\nNo significant effects detected. Post-hoc test is not required.\")"
   ]
  },
  {
   "cell_type": "code",
   "execution_count": 6,
   "id": "04972b6e",
   "metadata": {},
   "outputs": [
    {
     "name": "stdout",
     "output_type": "stream",
     "text": [
      "\n",
      "ANOVA Results:\n",
      "                             sum_sq     df          F        PR(>F)\n",
      "C(season)             7.234655e+06    1.0  45.502782  9.393830e-10\n",
      "C(estuary)            9.238908e+03    1.0   0.058109  8.099945e-01\n",
      "C(season):C(estuary)  8.689347e+03    1.0   0.054652  8.156259e-01\n",
      "Residual              1.621735e+07  102.0        NaN           NaN\n",
      "\n",
      "Significant effects detected. Running Tukey HSD post-hoc test:\n",
      "               Multiple Comparison of Means - Tukey HSD, FWER=0.05               \n",
      "=================================================================================\n",
      "      group1             group2        meandiff p-adj    lower     upper   reject\n",
      "---------------------------------------------------------------------------------\n",
      "  Dry - Candelaria     Dry - Palizada   31.1111 0.9874 -214.3649  276.5871  False\n",
      "  Dry - Candelaria Rainy - Candelaria -539.7153 0.0001  -852.637 -226.7935   True\n",
      "  Dry - Candelaria   Rainy - Palizada -547.4444    0.0   -848.09 -246.7989   True\n",
      "    Dry - Palizada Rainy - Candelaria -570.8264    0.0 -883.7482 -257.9046   True\n",
      "    Dry - Palizada   Rainy - Palizada -578.5556    0.0 -879.2011   -277.91   True\n",
      "Rainy - Candelaria   Rainy - Palizada   -7.7292 0.9999 -365.5689  350.1106  False\n",
      "---------------------------------------------------------------------------------\n"
     ]
    }
   ],
   "source": [
    "two_way_anova_tukey(terminos_df, response=\"ta_micromol_kg\", factor1=\"season\", factor2=\"estuary\")"
   ]
  },
  {
   "cell_type": "code",
   "execution_count": null,
   "id": "88159114",
   "metadata": {},
   "outputs": [],
   "source": []
  }
 ],
 "metadata": {
  "kernelspec": {
   "display_name": "base",
   "language": "python",
   "name": "python3"
  },
  "language_info": {
   "codemirror_mode": {
    "name": "ipython",
    "version": 3
   },
   "file_extension": ".py",
   "mimetype": "text/x-python",
   "name": "python",
   "nbconvert_exporter": "python",
   "pygments_lexer": "ipython3",
   "version": "3.13.5"
  }
 },
 "nbformat": 4,
 "nbformat_minor": 5
}
