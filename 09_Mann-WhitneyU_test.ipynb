{
 "cells": [
  {
   "cell_type": "code",
   "execution_count": null,
   "id": "b41faedf",
   "metadata": {},
   "outputs": [],
   "source": [
    "#Definir FUNCIÓN que me permitirá importar un archivo CSV y cargarlo en un DataFrame de pandas\n",
    "def import_csv(file):\n",
    "    # Read the csv file into a DataFrame: df con el paquete pandas\n",
    "    import pandas as pd  #Python llama a paquetería pandas \n",
    "    return pd.read_csv(file)"
   ]
  },
  {
   "cell_type": "code",
   "execution_count": null,
   "id": "39d682de",
   "metadata": {},
   "outputs": [],
   "source": [
    "#Utilizar el nombre de la FUNCIÓN PREdefinida y la ruta de acceso (path) al archivo .csv de interés\n",
    "import_csv(\"C:/Projects/modelab_jp/data/Terminos_lagoon_TA_DIC_2023_RawData.csv\")"
   ]
  },
  {
   "cell_type": "code",
   "execution_count": null,
   "id": "817a3ff8",
   "metadata": {},
   "outputs": [],
   "source": [
    "#Definir una VARIABLE para poder manipular el DataFrame (no solo visualizarlo)\n",
    "terminos_df = import_csv(\"C:/Projects/modelab_jp/data/Terminos_lagoon_TA_DIC_2023_RawData.csv\")"
   ]
  },
  {
   "cell_type": "code",
   "execution_count": null,
   "id": "0f0644f7",
   "metadata": {},
   "outputs": [],
   "source": [
    "terminos_df  #Visualizar el DataFrame"
   ]
  },
  {
   "cell_type": "markdown",
   "id": "d6456ebe",
   "metadata": {},
   "source": [
    "# 09 Mann-Whitney U test"
   ]
  },
  {
   "cell_type": "code",
   "execution_count": null,
   "id": "b53bcd5e",
   "metadata": {},
   "outputs": [],
   "source": [
    "from scipy.stats import mannwhitneyu\n",
    "\n",
    "#Crear una FUNCIÓN para realizar la prueba de Mann-Whitney U\n",
    "def mann_whitney_test(data1, data2, alpha=0.05):\n",
    "   \n",
    "    \"\"\"Performs the Mann-Whitney U test and prints U statistic, p-value, and result.\"\"\"\n",
    "    result = mannwhitneyu(data1, data2, alternative='two-sided')\n",
    "    #Crear una f-string (permite insertar variables dentro del texto usando {}). Aquí, esto permite acceder a los ATRIBUTOS statistic y pvalue del OBJETO result\n",
    "    print(f\"U statistic = {result.statistic}\")\n",
    "    print(f\"p-value = {result.pvalue}\")\n",
    "    \n",
    "    #Crear una CONDICIONAL para interpretar el resultado. pvalue < 0.05 es estadisticamente significativo\n",
    "    if result.pvalue < alpha:\n",
    "        print(\"The difference is statistically significant.\")\n",
    "    else:\n",
    "        print(\"The difference is not statistically significant.\")"
   ]
  },
  {
   "cell_type": "code",
   "execution_count": null,
   "id": "e53ab29d",
   "metadata": {},
   "outputs": [],
   "source": [
    "terminos_df.columns  #Visualizar los nombres de las columnas del DataFrame"
   ]
  },
  {
   "cell_type": "code",
   "execution_count": null,
   "id": "3be7ea34",
   "metadata": {},
   "outputs": [],
   "source": [
    "#Importar las paqueterías necesarias (script original)\n",
    "import seaborn as sns\n",
    "import matplotlib.pyplot as plt\n",
    "\n",
    "# Create a box plot of TA by season\n",
    "sns.boxplot(x='season', y='ta_micromol_kg', data=terminos_df) \n",
    "#sns.swarmplot(x='season', y='sal_psu', data=terminos_df, color=\".25\") \n",
    "# Add labels and title\n",
    "plt.xlabel('Season')\n",
    "plt.ylabel('TA (μmol/kg)')\n",
    "plt.title('Box Plot of TA by Season')\n",
    "\n",
    "# Show the plot\n",
    "plt.show()"
   ]
  },
  {
   "cell_type": "code",
   "execution_count": null,
   "id": "53181772",
   "metadata": {},
   "outputs": [],
   "source": [
    "#Importar las paqueterías necesarias: modificado 1 (boxplot modificado)\n",
    "import seaborn as sns\n",
    "import matplotlib.pyplot as plt\n",
    "\n",
    "# Create a box plot of TA by season\n",
    "sns.boxplot(x='season', y='ta_micromol_kg', data=terminos_df, palette=\"Set3\", hue=\"season\",legend=False) #Cada que se use el ARGUMENTO palette, se debe especificar el ARGUMENTO hue y agregar legend=False si no quieres mostrar la leyenda. Así el color se asigna correctamente por categoría.\n",
    "sns.boxplot(x='season', y='ta_micromol_kg', data=terminos_df, palette=\"Set3\", hue=\"season\",legend=True) #Cada que se use el ARGUMENTO palette, se debe especificar el ARGUMENTO hue y agregar legend=True si quieres mostrar la leyenda.\n",
    "\n",
    "# Add labels and title\n",
    "plt.xlabel('Season')\n",
    "plt.ylabel('TA (μmol/kg)')\n",
    "plt.title('Box Plot of TA by Season')\n",
    "\n",
    "# Show the plot\n",
    "plt.show()"
   ]
  },
  {
   "cell_type": "code",
   "execution_count": null,
   "id": "4cb09a9b",
   "metadata": {},
   "outputs": [],
   "source": [
    "#Importar las paqueterías necesarias: modificado 1.1 (con stripplot)\n",
    "import seaborn as sns\n",
    "import matplotlib.pyplot as plt\n",
    "\n",
    "# Create a box plot of TA by season\n",
    "sns.stripplot(x='season', y='sal_psu', data=terminos_df, color=\".25\", size=3) #Agregar puntos individuales a la gráfica de caja (box plot), usando stripplot en lugar de swarmplot\n",
    "\n",
    "# Add labels and title\n",
    "plt.xlabel('Season')\n",
    "plt.ylabel('TA (μmol/kg)')\n",
    "plt.title('Box Plot of TA by Season')\n",
    "\n",
    "# Show the plot\n",
    "plt.show()"
   ]
  },
  {
   "cell_type": "code",
   "execution_count": null,
   "id": "cc6f340f",
   "metadata": {},
   "outputs": [],
   "source": [
    "#Importar las paqueterías necesarias: modificado 1.2 (con swarmplot)\n",
    "import seaborn as sns\n",
    "import matplotlib.pyplot as plt\n",
    "\n",
    "# Create a box plot of TA by season\n",
    "sns.swarmplot(x='season', y='sal_psu', data=terminos_df, color=\".25\", size=3) #Agregar puntos individuales a la gráfica de caja (box plot), usando stripplot en lugar de swarmplot\n",
    "\n",
    "# Add labels and title\n",
    "plt.xlabel('Season')\n",
    "plt.ylabel('TA (μmol/kg)')\n",
    "plt.title('Box Plot of TA by Season')\n",
    "\n",
    "# Show the plot\n",
    "plt.show()"
   ]
  },
  {
   "cell_type": "code",
   "execution_count": null,
   "id": "758c6827",
   "metadata": {},
   "outputs": [],
   "source": []
  }
 ],
 "metadata": {
  "kernelspec": {
   "display_name": "base",
   "language": "python",
   "name": "python3"
  },
  "language_info": {
   "codemirror_mode": {
    "name": "ipython",
    "version": 3
   },
   "file_extension": ".py",
   "mimetype": "text/x-python",
   "name": "python",
   "nbconvert_exporter": "python",
   "pygments_lexer": "ipython3",
   "version": "3.13.5"
  }
 },
 "nbformat": 4,
 "nbformat_minor": 5
}
