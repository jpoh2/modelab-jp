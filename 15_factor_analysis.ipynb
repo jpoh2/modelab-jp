{
 "cells": [
  {
   "cell_type": "code",
   "execution_count": null,
   "id": "ac367575",
   "metadata": {},
   "outputs": [],
   "source": []
  }
 ],
 "metadata": {
  "language_info": {
   "name": "python"
  }
 },
 "nbformat": 4,
 "nbformat_minor": 5
}
